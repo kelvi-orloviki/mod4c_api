{
 "cells": [
  {
   "cell_type": "markdown",
   "metadata": {},
   "source": [
    "# Tarefa 03\n",
    "\n",
    "- Leia os enunciados com atenção\n",
    "- Saiba que pode haver mais de uma resposta correta\n",
    "- Insira novas células de código sempre que achar necessário\n",
    "- Em caso de dúvidas, procure os Tutores\n",
    "- Divirta-se :)"
   ]
  },
  {
   "cell_type": "code",
   "execution_count": 1,
   "metadata": {},
   "outputs": [],
   "source": [
    "import pandas as pd\n",
    "import requests"
   ]
  },
  {
   "cell_type": "markdown",
   "metadata": {},
   "source": [
    "####  1) Lendo de APIs\n",
    "Vimos em aula como carregar dados públicos do governo através de um API (*Application Programming Interface*). No exemplo de aula, baixamos os dados de pedidos de verificação de limites (PVL) realizados por estados, e selecionamos apenas aqueles referentes ao estado de São Paulo.\n",
    "\n",
    "1. Repita os mesmos passos feitos em aula, mas selecione os PVLs realizados por municípios no estado do Rio de Janeiro.\n",
    "2. Quais são os três *status* das solicitações mais frequentes na base? Quais são suas frequências?\n",
    "3. Construa uma nova variável que contenha o ano do **status**. Observe que ```data_status``` vem como tipo *object* no **DataFrame**. Dica: você pode usar o método ```.str``` para transformar o tipo da variável em string, em seguida um método como [**slice()**](https://pandas.pydata.org/docs/reference/api/pandas.Series.str.slice.html) ou [**split()**](https://pandas.pydata.org/pandas-docs/stable/reference/api/pandas.Series.str.split.html).\n",
    "4. Indique a frequência de cada ano do campo construído no item (3)."
   ]
  },
  {
   "cell_type": "code",
   "execution_count": 2,
   "metadata": {},
   "outputs": [],
   "source": [
    "# 1) Seu código aqui\n",
    "url = 'https://apidatalake.tesouro.gov.br/ords/sadipem/tt/pvl?uf=RJ&tipo_interessado=Estado'"
   ]
  },
  {
   "cell_type": "code",
   "execution_count": 3,
   "metadata": {},
   "outputs": [],
   "source": [
    "r = requests.get(url)"
   ]
  },
  {
   "cell_type": "code",
   "execution_count": 4,
   "metadata": {},
   "outputs": [
    {
     "data": {
      "text/plain": [
       "200"
      ]
     },
     "execution_count": 4,
     "metadata": {},
     "output_type": "execute_result"
    }
   ],
   "source": [
    "r.status_code"
   ]
  },
  {
   "cell_type": "code",
   "execution_count": 5,
   "metadata": {},
   "outputs": [
    {
     "name": "stdout",
     "output_type": "stream",
     "text": [
      "{'items': [{'id_pleito': 4997, 'tipo_interessado': 'Estado', 'interessado': 'Rio de Janeiro', 'cod_ibge': 33, 'uf': 'RJ', 'num_pvl': None, 'status': 'Deferido', 'num_processo': '17944.000020/2010-11', 'data_protocolo': '2010-04-19T03:00:00Z', 'tipo_operacao': 'Operação contratual interna', 'finalidade': 'PMAE', 'tipo_credor': 'Instituição Financeira Nacional', 'credor': 'Banco Nacional de Desenvolvimento Econômico e Social', 'moeda': 'Real', 'valor': 9982000, 'pvl_assoc_divida': 1, 'pvl_contradado_credor': 0, 'data_status': '20/04/2010'}, {'id_pleito': 7129, 'tipo_interessado': 'Estado', 'interessado': 'Rio de Janeiro', 'cod_ibge': 33, 'uf': 'RJ', 'num_pvl': None, 'status': 'Encaminhado à PGFN com manifestação técnica favorável', 'num_processo': '17944.000504/2014-86', 'data_protocolo': '2014-04-02T03:00:00Z', 'tipo_operacao': 'Operação contratual interna (com garantia da União)', 'finalidade': 'Infraestrutura', 'tipo_credor': 'Instituição Financeira Nacional', 'credor': 'Banco BTG Pactual S.A.', 'moeda': 'Real', 'valor': 450000000, 'pvl_assoc_divida': 1, 'pvl_contradado_credor': 0, 'data_status': '01/09/2014'}, {'id_pleito': 7141, 'tipo_interessado': 'Estado', 'interessado': 'Rio de Janeiro', 'cod_ibge': 33, 'uf': 'RJ', 'num_pvl': None, 'status': 'Encaminhado à PGFN com manifestação técnica favorável', 'num_processo': '17944.000506/2014-75', 'data_protocolo': '2014-04-02T03:00:00Z', 'tipo_operacao': 'Operação contratual interna (com garantia da União)', 'finalidade': 'Desenvolvimento sustentável', 'tipo_credor': 'Instituição Financeira Nacional', 'credor': 'Banco de Investimentos Credit Suisse (Brasil) S.A.', 'moeda': 'Real', 'valor': 600000000, 'pvl_assoc_divida': 1, 'pvl_contradado_credor': 0, 'data_status': '01/09/2014'}, {'id_pleito': 7255, 'tipo_interessado': 'Estado', 'interessado': 'Rio de Janeiro', 'cod_ibge': 33, 'uf': 'RJ', 'num_pvl': None, 'status': 'Encaminhado à PGFN com manifestação técnica favorável', 'num_processo': '17944.000532/2012-31', 'data_protocolo': '2012-05-24T03:00:00Z', 'tipo_operacao': 'Operação contratual interna (com garantia da União)', 'finalidade': 'Infraestrutura', 'tipo_credor': 'Instituição Financeira Nacional', 'credor': 'Banco do Brasil S/A', 'moeda': 'Real', 'valor': 3645563000, 'pvl_assoc_divida': 1, 'pvl_contradado_credor': 0, 'data_status': '29/05/2012'}, {'id_pleito': 10890, 'tipo_interessado': 'Estado', 'interessado': 'Rio de Janeiro', 'cod_ibge': 33, 'uf': 'RJ', 'num_pvl': None, 'status': 'Encaminhado à PGFN com manifestação técnica favorável', 'num_processo': '17944.001308/2012-67', 'data_protocolo': '2012-10-17T03:00:00Z', 'tipo_operacao': 'Operação contratual interna (com garantia da União)', 'finalidade': 'Proinveste', 'tipo_credor': 'Instituição Financeira Nacional', 'credor': 'Banco do Brasil S/A', 'moeda': 'Real', 'valor': 940956773.22, 'pvl_assoc_divida': 1, 'pvl_contradado_credor': 0, 'data_status': '20/11/2012'}, {'id_pleito': 13271, 'tipo_interessado': 'Estado', 'interessado': 'Rio de Janeiro', 'cod_ibge': 33, 'uf': 'RJ', 'num_pvl': None, 'status': 'Encaminhado à PGFN com manifestação técnica favorável', 'num_processo': '17944.001999/2008-12', 'data_protocolo': '2009-07-01T03:00:00Z', 'tipo_operacao': 'Operação contratual externa (com garantia da União)', 'finalidade': 'Desenvolvimento rural', 'tipo_credor': 'Instituição Financeira Internacional', 'credor': 'Banco Internacional para Reconstrução e Desenvolvimento', 'moeda': 'Dólar dos EUA', 'valor': 39500000, 'pvl_assoc_divida': 1, 'pvl_contradado_credor': 0, 'data_status': '07/07/2009'}, {'id_pleito': 6833, 'tipo_interessado': 'Estado', 'interessado': 'Rio de Janeiro', 'cod_ibge': 33, 'uf': 'RJ', 'num_pvl': None, 'status': 'Deferido', 'num_processo': '17944.000440/2008-75', 'data_protocolo': '2008-04-11T03:00:00Z', 'tipo_operacao': 'Operação contratual interna', 'finalidade': 'Multissetorial', 'tipo_credor': 'Instituição Financeira Nacional', 'credor': 'Banco Nacional de Desenvolvimento Econômico e Social', 'moeda': 'Real', 'valor': 15000000, 'pvl_assoc_divida': 1, 'pvl_contradado_credor': 0, 'data_status': '18/04/2008'}, {'id_pleito': 5918, 'tipo_interessado': 'Estado', 'interessado': 'Rio de Janeiro', 'cod_ibge': 33, 'uf': 'RJ', 'num_pvl': None, 'status': 'Encaminhado à PGFN com manifestação técnica favorável', 'num_processo': '17944.000233/2012-05', 'data_protocolo': '2012-04-16T03:00:00Z', 'tipo_operacao': 'Operação contratual externa (com garantia da União)', 'finalidade': 'Infraestrutura', 'tipo_credor': 'Instituição Financeira Internacional', 'credor': 'Corporação Andina de Fomento', 'moeda': 'Dólar dos EUA', 'valor': 319675000, 'pvl_assoc_divida': 1, 'pvl_contradado_credor': 0, 'data_status': '11/03/2016'}, {'id_pleito': 5645, 'tipo_interessado': 'Estado', 'interessado': 'Rio de Janeiro', 'cod_ibge': 33, 'uf': 'RJ', 'num_pvl': None, 'status': 'Encaminhado à PGFN com manifestação técnica favorável', 'num_processo': '17944.000161/2013-79', 'data_protocolo': '2013-04-08T03:00:00Z', 'tipo_operacao': 'Operação contratual interna (com garantia da União)', 'finalidade': 'Infraestrutura', 'tipo_credor': 'Instituição Financeira Nacional', 'credor': 'Banco Nacional de Desenvolvimento Econômico e Social', 'moeda': 'Real', 'valor': 3031405000, 'pvl_assoc_divida': 1, 'pvl_contradado_credor': 0, 'data_status': '06/05/2013'}, {'id_pleito': 9898, 'tipo_interessado': 'Estado', 'interessado': 'Rio de Janeiro', 'cod_ibge': 33, 'uf': 'RJ', 'num_pvl': None, 'status': 'Deferido', 'num_processo': '17944.001076/2010-85', 'data_protocolo': '2011-05-25T03:00:00Z', 'tipo_operacao': 'Operação contratual interna', 'finalidade': 'Saúde', 'tipo_credor': 'Instituição Financeira Nacional', 'credor': 'Banco do Brasil S/A', 'moeda': 'Real', 'valor': 132800000, 'pvl_assoc_divida': 0, 'pvl_contradado_credor': 0, 'data_status': '07/06/2011'}, {'id_pleito': 6660, 'tipo_interessado': 'Estado', 'interessado': 'Rio de Janeiro', 'cod_ibge': 33, 'uf': 'RJ', 'num_pvl': None, 'status': 'Deferido', 'num_processo': '17944.000403/2010-81', 'data_protocolo': '2010-05-24T03:00:00Z', 'tipo_operacao': 'Operação contratual interna', 'finalidade': 'PAC - Favelas', 'tipo_credor': 'Instituição Financeira Nacional', 'credor': 'Caixa Econômica Federal', 'moeda': 'Real', 'valor': 606046612.5, 'pvl_assoc_divida': 1, 'pvl_contradado_credor': 0, 'data_status': '06/07/2010'}, {'id_pleito': 9050, 'tipo_interessado': 'Estado', 'interessado': 'Rio de Janeiro', 'cod_ibge': 33, 'uf': 'RJ', 'num_pvl': None, 'status': 'Encaminhado à PGFN com manifestação técnica favorável', 'num_processo': '17944.000893/2010-16', 'data_protocolo': '2011-06-03T03:00:00Z', 'tipo_operacao': 'Operação contratual interna (com garantia da União)', 'finalidade': 'Infraestrutura', 'tipo_credor': 'Instituição Financeira Nacional', 'credor': 'Caixa Econômica Federal', 'moeda': 'Real', 'valor': 259138332.31, 'pvl_assoc_divida': 1, 'pvl_contradado_credor': 0, 'data_status': '04/07/2011'}, {'id_pleito': 22594, 'tipo_interessado': 'Estado', 'interessado': 'Rio de Janeiro', 'cod_ibge': 33, 'uf': 'RJ', 'num_pvl': '00000.000000/2031-89', 'status': 'Arquivado por decurso de prazo', 'num_processo': '17944.000657/2016-95', 'data_protocolo': '2016-05-12T03:00:00Z', 'tipo_operacao': 'Operação contratual interna (com garantia da União)', 'finalidade': 'Infraestrutura', 'tipo_credor': 'Instituição Financeira Nacional', 'credor': 'Banco Nacional de Desenvolvimento Econômico e Social', 'moeda': 'Real', 'valor': 989210440, 'pvl_assoc_divida': 0, 'pvl_contradado_credor': 0, 'data_status': '25/10/2016'}, {'id_pleito': 10606, 'tipo_interessado': 'Estado', 'interessado': 'Rio de Janeiro', 'cod_ibge': 33, 'uf': 'RJ', 'num_pvl': None, 'status': 'Deferido', 'num_processo': '17944.001240/2009-11', 'data_protocolo': '2009-10-22T02:00:00Z', 'tipo_operacao': 'Operação contratual interna', 'finalidade': 'Aquisição de máquinas, equipamentos e veículos', 'tipo_credor': 'Instituição Financeira Nacional', 'credor': 'Banco do Brasil S/A', 'moeda': 'Real', 'valor': 20000000, 'pvl_assoc_divida': 1, 'pvl_contradado_credor': 0, 'data_status': '04/11/2009'}, {'id_pleito': 12410, 'tipo_interessado': 'Estado', 'interessado': 'Rio de Janeiro', 'cod_ibge': 33, 'uf': 'RJ', 'num_pvl': None, 'status': 'Encaminhado à PGFN com manifestação técnica favorável', 'num_processo': '17944.001680/2011-92', 'data_protocolo': '2012-04-16T03:00:00Z', 'tipo_operacao': 'Operação contratual externa (com garantia da União)', 'finalidade': 'Infraestrutura', 'tipo_credor': 'Instituição Financeira Internacional', 'credor': 'Banco Internacional para Reconstrução e Desenvolvimento', 'moeda': 'Dólar dos EUA', 'valor': 600000000, 'pvl_assoc_divida': 1, 'pvl_contradado_credor': 0, 'data_status': '10/07/2012'}, {'id_pleito': 5630, 'tipo_interessado': 'Estado', 'interessado': 'Rio de Janeiro', 'cod_ibge': 33, 'uf': 'RJ', 'num_pvl': None, 'status': 'Encaminhado à PGFN com manifestação técnica favorável', 'num_processo': '17944.000158/2013-55', 'data_protocolo': '2013-10-22T02:00:00Z', 'tipo_operacao': 'Operação contratual externa (com garantia da União)', 'finalidade': 'Fortalecimento Institucional', 'tipo_credor': 'Instituição Financeira Internacional', 'credor': 'Banco Internacional para Reconstrução e Desenvolvimento', 'moeda': 'Dólar dos EUA', 'valor': 48000000, 'pvl_assoc_divida': 1, 'pvl_contradado_credor': 0, 'data_status': '21/11/2013'}, {'id_pleito': 5635, 'tipo_interessado': 'Estado', 'interessado': 'Rio de Janeiro', 'cod_ibge': 33, 'uf': 'RJ', 'num_pvl': None, 'status': 'Encaminhado à PGFN com manifestação técnica favorável', 'num_processo': '17944.000159/2013-08', 'data_protocolo': '2013-04-08T03:00:00Z', 'tipo_operacao': 'Operação contratual interna (com garantia da União)', 'finalidade': 'Infraestrutura', 'tipo_credor': 'Instituição Financeira Nacional', 'credor': 'Banco do Brasil S/A', 'moeda': 'Real', 'valor': 3135800000, 'pvl_assoc_divida': 1, 'pvl_contradado_credor': 0, 'data_status': '06/05/2013'}, {'id_pleito': 5640, 'tipo_interessado': 'Estado', 'interessado': 'Rio de Janeiro', 'cod_ibge': 33, 'uf': 'RJ', 'num_pvl': None, 'status': 'Arquivado a pedido', 'num_processo': '17944.000160/2013-24', 'data_protocolo': '2013-03-18T03:00:00Z', 'tipo_operacao': 'Operação contratual externa (com garantia da União)', 'finalidade': 'Infraestrutura', 'tipo_credor': 'Instituição Financeira Internacional', 'credor': 'Bank of America Merrill Lynch', 'moeda': 'Dólar dos EUA', 'valor': 716417910.45, 'pvl_assoc_divida': 0, 'pvl_contradado_credor': 0, 'data_status': '29/07/2013'}, {'id_pleito': 13364, 'tipo_interessado': 'Estado', 'interessado': 'Rio de Janeiro', 'cod_ibge': 33, 'uf': 'RJ', 'num_pvl': None, 'status': 'Encaminhado à PGFN com manifestação técnica favorável', 'num_processo': '17944.002059/2008-41', 'data_protocolo': '2009-05-14T03:00:00Z', 'tipo_operacao': 'Operação contratual externa (com garantia da União)', 'finalidade': 'Infraestrutura', 'tipo_credor': 'Instituição Financeira Internacional', 'credor': 'Banco Internacional para Reconstrução e Desenvolvimento', 'moeda': 'Dólar dos EUA', 'valor': 211700000, 'pvl_assoc_divida': 1, 'pvl_contradado_credor': 0, 'data_status': '22/05/2009'}, {'id_pleito': 13560, 'tipo_interessado': 'Estado', 'interessado': 'Rio de Janeiro', 'cod_ibge': 33, 'uf': 'RJ', 'num_pvl': None, 'status': 'Deferido', 'num_processo': '19405.000026/2002-01', 'data_protocolo': '2002-06-25T03:00:00Z', 'tipo_operacao': 'Operação contratual interna', 'finalidade': 'Infraestrutura', 'tipo_credor': 'Instituição Financeira Nacional', 'credor': 'Banco Nacional de Desenvolvimento Econômico e Social', 'moeda': 'Real', 'valor': 49942, 'pvl_assoc_divida': 1, 'pvl_contradado_credor': 0, 'data_status': '27/06/2002'}, {'id_pleito': 10562, 'tipo_interessado': 'Estado', 'interessado': 'Rio de Janeiro', 'cod_ibge': 33, 'uf': 'RJ', 'num_pvl': None, 'status': 'Encaminhado à PGFN com manifestação técnica favorável', 'num_processo': '17944.001228/2013-92', 'data_protocolo': '2013-10-22T02:00:00Z', 'tipo_operacao': 'Operação contratual externa (com garantia da União)', 'finalidade': 'Infraestrutura', 'tipo_credor': 'Instituição Financeira Internacional', 'credor': 'Banco Internacional para Reconstrução e Desenvolvimento', 'moeda': 'Dólar dos EUA', 'valor': 500000000, 'pvl_assoc_divida': 1, 'pvl_contradado_credor': 0, 'data_status': '27/12/2013'}, {'id_pleito': 12375, 'tipo_interessado': 'Estado', 'interessado': 'Rio de Janeiro', 'cod_ibge': 33, 'uf': 'RJ', 'num_pvl': None, 'status': 'Encaminhado à PGFN com manifestação técnica favorável', 'num_processo': '17944.001671/2011-00', 'data_protocolo': '2011-10-18T02:00:00Z', 'tipo_operacao': 'Operação contratual externa (com garantia da União)', 'finalidade': 'Preservação e recuperação ambiental', 'tipo_credor': 'Instituição Financeira Internacional', 'credor': 'Banco Interamericano de Desenvolvimento', 'moeda': 'Dólar dos EUA', 'valor': 451980000, 'pvl_assoc_divida': 1, 'pvl_contradado_credor': 0, 'data_status': '27/12/2011'}, {'id_pleito': 5923, 'tipo_interessado': 'Estado', 'interessado': 'Rio de Janeiro', 'cod_ibge': 33, 'uf': 'RJ', 'num_pvl': None, 'status': 'Encaminhado à PGFN com manifestação técnica favorável', 'num_processo': '17944.000234/2012-41', 'data_protocolo': '2012-04-16T03:00:00Z', 'tipo_operacao': 'Operação contratual externa (com garantia da União)', 'finalidade': 'Infraestrutura', 'tipo_credor': 'Instituição Financeira Internacional', 'credor': 'Corporação Andina de Fomento', 'moeda': 'Dólar dos EUA', 'valor': 200000000, 'pvl_assoc_divida': 1, 'pvl_contradado_credor': 0, 'data_status': '04/10/2012'}, {'id_pleito': 13483, 'tipo_interessado': 'Estado', 'interessado': 'Rio de Janeiro', 'cod_ibge': 33, 'uf': 'RJ', 'num_pvl': None, 'status': 'Deferido', 'num_processo': '19405.000010/2004-52', 'data_protocolo': '2006-02-15T02:00:00Z', 'tipo_operacao': 'Operação contratual interna', 'finalidade': 'Renegociação de dívidas', 'tipo_credor': 'Instituição Financeira Nacional', 'credor': 'Banco Nacional de Desenvolvimento Econômico e Social', 'moeda': 'Real', 'valor': 847526319.24, 'pvl_assoc_divida': 1, 'pvl_contradado_credor': 0, 'data_status': '01/03/2006'}, {'id_pleito': 13629, 'tipo_interessado': 'Estado', 'interessado': 'Rio de Janeiro', 'cod_ibge': 33, 'uf': 'RJ', 'num_pvl': None, 'status': 'Deferido', 'num_processo': '19405.000040/2002-05', 'data_protocolo': '2002-06-20T03:00:00Z', 'tipo_operacao': 'Operação contratual interna', 'finalidade': 'Aquisição de máquinas, equipamentos e veículos', 'tipo_credor': 'Instituição Financeira Nacional', 'credor': 'Banco Nacional de Desenvolvimento Econômico e Social', 'moeda': 'Real', 'valor': 43527550, 'pvl_assoc_divida': 1, 'pvl_contradado_credor': 0, 'data_status': '27/06/2002'}, {'id_pleito': 21660, 'tipo_interessado': 'Estado', 'interessado': 'Rio de Janeiro', 'cod_ibge': 33, 'uf': 'RJ', 'num_pvl': '00000.000000/2026-68', 'status': 'Arquivado a pedido', 'num_processo': '17944.000245/2016-55', 'data_protocolo': '2016-03-11T03:00:00Z', 'tipo_operacao': 'Operação contratual interna (com garantia da União)', 'finalidade': 'Fortalecimento Institucional', 'tipo_credor': 'Instituição Financeira Nacional', 'credor': 'Banco do Brasil S/A', 'moeda': 'Real', 'valor': 1000000000, 'pvl_assoc_divida': 0, 'pvl_contradado_credor': 0, 'data_status': '16/05/2016'}, {'id_pleito': 7057, 'tipo_interessado': 'Estado', 'interessado': 'Rio de Janeiro', 'cod_ibge': 33, 'uf': 'RJ', 'num_pvl': None, 'status': 'Encaminhado à PGFN com manifestação técnica favorável', 'num_processo': '17944.000487/2014-87', 'data_protocolo': '2014-04-24T03:00:00Z', 'tipo_operacao': 'Operação contratual interna (com garantia da União)', 'finalidade': 'Infraestrutura', 'tipo_credor': 'Instituição Financeira Nacional', 'credor': 'Banco Nacional de Desenvolvimento Econômico e Social', 'moeda': 'Real', 'valor': 3000000000, 'pvl_assoc_divida': 1, 'pvl_contradado_credor': 0, 'data_status': '04/07/2014'}, {'id_pleito': 7084, 'tipo_interessado': 'Estado', 'interessado': 'Rio de Janeiro', 'cod_ibge': 33, 'uf': 'RJ', 'num_pvl': None, 'status': 'Encaminhado à PGFN com manifestação técnica favorável', 'num_processo': '17944.000493/2010-19', 'data_protocolo': '2010-08-06T03:00:00Z', 'tipo_operacao': 'Operação contratual externa (com garantia da União)', 'finalidade': 'Fortalecimento Institucional', 'tipo_credor': 'Instituição Financeira Internacional', 'credor': 'Banco Internacional para Reconstrução e Desenvolvimento', 'moeda': 'Dólar dos EUA', 'valor': 18673000, 'pvl_assoc_divida': 1, 'pvl_contradado_credor': 0, 'data_status': '19/08/2010'}, {'id_pleito': 8528, 'tipo_interessado': 'Estado', 'interessado': 'Rio de Janeiro', 'cod_ibge': 33, 'uf': 'RJ', 'num_pvl': None, 'status': 'Deferido', 'num_processo': '17944.000793/2009-56', 'data_protocolo': '2009-07-17T03:00:00Z', 'tipo_operacao': 'Operação contratual interna', 'finalidade': 'Aquisição de terrenos, imóveis e/ou construção de instalações', 'tipo_credor': 'Instituição Financeira Nacional', 'credor': 'Banco Nacional de Desenvolvimento Econômico e Social', 'moeda': 'Real', 'valor': 157000000, 'pvl_assoc_divida': 1, 'pvl_contradado_credor': 0, 'data_status': '24/07/2009'}, {'id_pleito': 9102, 'tipo_interessado': 'Estado', 'interessado': 'Rio de Janeiro', 'cod_ibge': 33, 'uf': 'RJ', 'num_pvl': None, 'status': 'Encaminhado à PGFN com manifestação técnica favorável', 'num_processo': '17944.000903/2009-80', 'data_protocolo': '2009-07-29T03:00:00Z', 'tipo_operacao': 'Operação contratual interna (com garantia da União)', 'finalidade': 'PEF - Programa Emergencial de Financiamento dos Estados/DF', 'tipo_credor': 'Instituição Financeira Nacional', 'credor': 'Banco do Brasil S/A', 'moeda': 'Real', 'valor': 61108000, 'pvl_assoc_divida': 1, 'pvl_contradado_credor': 0, 'data_status': '06/08/2009'}, {'id_pleito': 7080, 'tipo_interessado': 'Estado', 'interessado': 'Rio de Janeiro', 'cod_ibge': 33, 'uf': 'RJ', 'num_pvl': None, 'status': 'Encaminhado à PGFN com manifestação técnica favorável', 'num_processo': '17944.000492/2012-28', 'data_protocolo': '2012-04-16T03:00:00Z', 'tipo_operacao': 'Operação contratual externa (com garantia da União)', 'finalidade': 'Multissetorial', 'tipo_credor': 'Instituição Financeira Internacional', 'credor': 'Banco Internacional para Reconstrução e Desenvolvimento', 'moeda': 'Dólar dos EUA', 'valor': 300000000, 'pvl_assoc_divida': 1, 'pvl_contradado_credor': 0, 'data_status': '03/09/2012'}, {'id_pleito': 8556, 'tipo_interessado': 'Estado', 'interessado': 'Rio de Janeiro', 'cod_ibge': 33, 'uf': 'RJ', 'num_pvl': None, 'status': 'Encaminhado à PGFN com manifestação técnica favorável', 'num_processo': '17944.000797/2010-78', 'data_protocolo': '2011-06-30T03:00:00Z', 'tipo_operacao': 'Operação contratual externa (com garantia da União)', 'finalidade': 'Multissetorial', 'tipo_credor': 'Instituição Financeira Internacional', 'credor': 'Banco Interamericano de Desenvolvimento', 'moeda': 'Dólar dos EUA', 'valor': 112000000, 'pvl_assoc_divida': 1, 'pvl_contradado_credor': 0, 'data_status': '04/07/2011'}, {'id_pleito': 9750, 'tipo_interessado': 'Estado', 'interessado': 'Rio de Janeiro', 'cod_ibge': 33, 'uf': 'RJ', 'num_pvl': None, 'status': 'Deferido', 'num_processo': '17944.001046/2006-92', 'data_protocolo': '2006-07-07T03:00:00Z', 'tipo_operacao': 'Operação contratual interna', 'finalidade': 'Infraestrutura', 'tipo_credor': 'Instituição Financeira Nacional', 'credor': 'Banco Nacional de Desenvolvimento Econômico e Social', 'moeda': 'Real', 'valor': 305737280, 'pvl_assoc_divida': 1, 'pvl_contradado_credor': 0, 'data_status': '13/07/2006'}, {'id_pleito': 10673, 'tipo_interessado': 'Estado', 'interessado': 'Rio de Janeiro', 'cod_ibge': 33, 'uf': 'RJ', 'num_pvl': None, 'status': 'Encaminhado à PGFN com manifestação técnica favorável', 'num_processo': '17944.001256/2010-67', 'data_protocolo': '2011-06-03T03:00:00Z', 'tipo_operacao': 'Operação contratual interna (com garantia da União)', 'finalidade': 'PAC - Copa Estádios', 'tipo_credor': 'Instituição Financeira Nacional', 'credor': 'Banco Nacional de Desenvolvimento Econômico e Social', 'moeda': 'Real', 'valor': 400000000, 'pvl_assoc_divida': 1, 'pvl_contradado_credor': 0, 'data_status': '04/07/2011'}, {'id_pleito': 10002, 'tipo_interessado': 'Estado', 'interessado': 'Rio de Janeiro', 'cod_ibge': 33, 'uf': 'RJ', 'num_pvl': None, 'status': 'Encaminhado à PGFN com manifestação técnica favorável', 'num_processo': '17944.001097/2009-67', 'data_protocolo': '2009-09-09T03:00:00Z', 'tipo_operacao': 'Operação contratual externa (com garantia da União)', 'finalidade': 'Profisco', 'tipo_credor': 'Instituição Financeira Internacional', 'credor': 'Banco Interamericano de Desenvolvimento', 'moeda': 'Dólar dos EUA', 'valor': 19759050, 'pvl_assoc_divida': 1, 'pvl_contradado_credor': 0, 'data_status': '28/09/2009'}, {'id_pleito': 11306, 'tipo_interessado': 'Estado', 'interessado': 'Rio de Janeiro', 'cod_ibge': 33, 'uf': 'RJ', 'num_pvl': None, 'status': 'Encaminhado à PGFN com manifestação técnica favorável', 'num_processo': '17944.001408/2009-98', 'data_protocolo': '2009-11-23T02:00:00Z', 'tipo_operacao': 'Operação contratual externa (com garantia da União)', 'finalidade': 'Fortalecimento Institucional', 'tipo_credor': 'Instituição Financeira Internacional', 'credor': 'Banco Internacional para Reconstrução e Desenvolvimento', 'moeda': 'Dólar dos EUA', 'valor': 485000000, 'pvl_assoc_divida': 1, 'pvl_contradado_credor': 0, 'data_status': '25/11/2009'}, {'id_pleito': 21388, 'tipo_interessado': 'Estado', 'interessado': 'Rio de Janeiro', 'cod_ibge': 33, 'uf': 'RJ', 'num_pvl': '00000.000000/2024-66', 'status': 'Encaminhado à PGFN com manifestação técnica favorável', 'num_processo': '17944.000158/2016-06', 'data_protocolo': '2016-02-19T02:00:00Z', 'tipo_operacao': 'Operação contratual interna (com garantia da União)', 'finalidade': 'Infraestrutura', 'tipo_credor': 'Instituição Financeira Nacional', 'credor': 'Banco Nacional de Desenvolvimento Econômico e Social', 'moeda': 'Real', 'valor': 444811123.92, 'pvl_assoc_divida': 1, 'pvl_contradado_credor': 0, 'data_status': '26/02/2016'}, {'id_pleito': 5516, 'tipo_interessado': 'Estado', 'interessado': 'Rio de Janeiro', 'cod_ibge': 33, 'uf': 'RJ', 'num_pvl': None, 'status': 'Encaminhado à PGFN com manifestação técnica favorável', 'num_processo': '17944.000131/2011-09', 'data_protocolo': '2011-06-30T03:00:00Z', 'tipo_operacao': 'Operação contratual externa (com garantia da União)', 'finalidade': 'Desenvolvimento sustentável', 'tipo_credor': 'Instituição Financeira Internacional', 'credor': 'Banco Internacional para Reconstrução e Desenvolvimento', 'moeda': 'Dólar dos EUA', 'valor': 485000000, 'pvl_assoc_divida': 1, 'pvl_contradado_credor': 0, 'data_status': '04/07/2011'}, {'id_pleito': 13624, 'tipo_interessado': 'Estado', 'interessado': 'Rio de Janeiro', 'cod_ibge': 33, 'uf': 'RJ', 'num_pvl': None, 'status': 'Deferido', 'num_processo': '19405.000039/2002-72', 'data_protocolo': '2002-06-20T03:00:00Z', 'tipo_operacao': 'Operação contratual interna', 'finalidade': 'Infraestrutura', 'tipo_credor': 'Instituição Financeira Nacional', 'credor': 'Banco Nacional de Desenvolvimento Econômico e Social', 'moeda': 'Real', 'valor': 67482400, 'pvl_assoc_divida': 1, 'pvl_contradado_credor': 0, 'data_status': '27/06/2002'}, {'id_pleito': 7085, 'tipo_interessado': 'Estado', 'interessado': 'Rio de Janeiro', 'cod_ibge': 33, 'uf': 'RJ', 'num_pvl': None, 'status': 'Encaminhado à PGFN com manifestação técnica favorável', 'num_processo': '17944.000493/2012-72', 'data_protocolo': '2012-04-16T03:00:00Z', 'tipo_operacao': 'Operação contratual externa (com garantia da União)', 'finalidade': 'Infraestrutura', 'tipo_credor': 'Instituição Financeira Internacional', 'credor': 'Corporação Andina de Fomento', 'moeda': 'Dólar dos EUA', 'valor': 120666000, 'pvl_assoc_divida': 1, 'pvl_contradado_credor': 0, 'data_status': '04/10/2012'}, {'id_pleito': 10849, 'tipo_interessado': 'Estado', 'interessado': 'Rio de Janeiro', 'cod_ibge': 33, 'uf': 'RJ', 'num_pvl': None, 'status': 'Encaminhado à PGFN com manifestação técnica favorável', 'num_processo': '17944.001300/2012-09', 'data_protocolo': '2013-03-04T03:00:00Z', 'tipo_operacao': 'Operação contratual interna (com garantia da União)', 'finalidade': 'Multissetorial', 'tipo_credor': 'Instituição Financeira Nacional', 'credor': 'Caixa Econômica Federal', 'moeda': 'Real', 'valor': 1199871427, 'pvl_assoc_divida': 1, 'pvl_contradado_credor': 0, 'data_status': '01/04/2013'}, {'id_pleito': 7187, 'tipo_interessado': 'Estado', 'interessado': 'Rio de Janeiro', 'cod_ibge': 33, 'uf': 'RJ', 'num_pvl': None, 'status': 'Encaminhado à PGFN com manifestação técnica favorável', 'num_processo': '17944.000517/2012-93', 'data_protocolo': '2012-04-16T03:00:00Z', 'tipo_operacao': 'Operação contratual externa (com garantia da União)', 'finalidade': 'Infraestrutura', 'tipo_credor': 'Instituição Financeira Internacional', 'credor': 'Agência Francesa de Desenvolvimento', 'moeda': 'Dólar dos EUA', 'valor': 394500000, 'pvl_assoc_divida': 1, 'pvl_contradado_credor': 0, 'data_status': '28/08/2012'}, {'id_pleito': 11961, 'tipo_interessado': 'Estado', 'interessado': 'Rio de Janeiro', 'cod_ibge': 33, 'uf': 'RJ', 'num_pvl': None, 'status': 'Encaminhado à PGFN com manifestação técnica favorável', 'num_processo': '17944.001569/2009-81', 'data_protocolo': '2009-12-04T02:00:00Z', 'tipo_operacao': 'Operação contratual interna (com garantia da União)', 'finalidade': 'PEF - Programa Emergencial de Financiamento dos Estados/DF 2', 'tipo_credor': 'Instituição Financeira Nacional', 'credor': 'Banco do Brasil S/A', 'moeda': 'Real', 'valor': 91662000, 'pvl_assoc_divida': 1, 'pvl_contradado_credor': 0, 'data_status': '09/12/2009'}, {'id_pleito': 5952, 'tipo_interessado': 'Estado', 'interessado': 'Rio de Janeiro', 'cod_ibge': 33, 'uf': 'RJ', 'num_pvl': None, 'status': 'Deferido', 'num_processo': '17944.000243/2012-32', 'data_protocolo': '2012-04-16T03:00:00Z', 'tipo_operacao': 'Operação contratual interna', 'finalidade': 'Infraestrutura', 'tipo_credor': 'Instituição Financeira Nacional', 'credor': 'Banco Nacional de Desenvolvimento Econômico e Social', 'moeda': 'Real', 'valor': 157954512.78, 'pvl_assoc_divida': 1, 'pvl_contradado_credor': 0, 'data_status': '14/05/2012'}, {'id_pleito': 5933, 'tipo_interessado': 'Estado', 'interessado': 'Rio de Janeiro', 'cod_ibge': 33, 'uf': 'RJ', 'num_pvl': None, 'status': 'Encaminhado à PGFN com manifestação técnica favorável', 'num_processo': '17944.000237/2012-85', 'data_protocolo': '2012-04-16T03:00:00Z', 'tipo_operacao': 'Operação contratual externa (com garantia da União)', 'finalidade': 'Infraestrutura', 'tipo_credor': 'Instituição Financeira Internacional', 'credor': 'Corporação Andina de Fomento', 'moeda': 'Dólar dos EUA', 'valor': 100000000, 'pvl_assoc_divida': 1, 'pvl_contradado_credor': 0, 'data_status': '10/07/2012'}, {'id_pleito': 9042, 'tipo_interessado': 'Estado', 'interessado': 'Rio de Janeiro', 'cod_ibge': 33, 'uf': 'RJ', 'num_pvl': None, 'status': 'Arquivado a pedido', 'num_processo': '17944.000891/2013-70', 'data_protocolo': '2013-09-20T03:00:00Z', 'tipo_operacao': 'Operação contratual interna (com garantia da União)', 'finalidade': 'Infraestrutura', 'tipo_credor': 'Instituição Financeira Nacional', 'credor': 'Banco Itaú BBA S.A.', 'moeda': 'Real', 'valor': 400000000, 'pvl_assoc_divida': 0, 'pvl_contradado_credor': 0, 'data_status': '05/02/2014'}, {'id_pleito': 7150, 'tipo_interessado': 'Estado', 'interessado': 'Rio de Janeiro', 'cod_ibge': 33, 'uf': 'RJ', 'num_pvl': None, 'status': 'Encaminhado à PGFN com manifestação técnica favorável', 'num_processo': '17944.000508/2012-01', 'data_protocolo': '2013-03-04T03:00:00Z', 'tipo_operacao': 'Operação contratual externa (com garantia da União)', 'finalidade': 'Desenvolvimento rural', 'tipo_credor': 'Instituição Financeira Internacional', 'credor': 'Banco Internacional para Reconstrução e Desenvolvimento', 'moeda': 'Dólar dos EUA', 'valor': 100000000, 'pvl_assoc_divida': 1, 'pvl_contradado_credor': 0, 'data_status': '28/03/2013'}, {'id_pleito': 7525, 'tipo_interessado': 'Estado', 'interessado': 'Rio de Janeiro', 'cod_ibge': 33, 'uf': 'RJ', 'num_pvl': None, 'status': 'Deferido', 'num_processo': '17944.000599/2009-71', 'data_protocolo': '2009-06-17T03:00:00Z', 'tipo_operacao': 'Operação contratual interna', 'finalidade': 'PAC - Saneamento - 2008', 'tipo_credor': 'Instituição Financeira Nacional', 'credor': 'Caixa Econômica Federal', 'moeda': 'Real', 'valor': 557999999.99, 'pvl_assoc_divida': 1, 'pvl_contradado_credor': 0, 'data_status': '18/06/2009'}, {'id_pleito': 13634, 'tipo_interessado': 'Estado', 'interessado': 'Rio de Janeiro', 'cod_ibge': 33, 'uf': 'RJ', 'num_pvl': None, 'status': 'Deferido', 'num_processo': '19405.000041/2002-41', 'data_protocolo': '2002-06-20T03:00:00Z', 'tipo_operacao': 'Operação contratual interna', 'finalidade': 'Aquisição de máquinas, equipamentos e veículos', 'tipo_credor': 'Instituição Financeira Nacional', 'credor': 'Banco Nacional de Desenvolvimento Econômico e Social', 'moeda': 'Real', 'valor': 60159550, 'pvl_assoc_divida': 0, 'pvl_contradado_credor': 0, 'data_status': '27/06/2002'}, {'id_pleito': 12018, 'tipo_interessado': 'Estado', 'interessado': 'Rio de Janeiro', 'cod_ibge': 33, 'uf': 'RJ', 'num_pvl': None, 'status': 'Encaminhado à PGFN com manifestação técnica favorável', 'num_processo': '17944.001583/2007-13', 'data_protocolo': '2007-12-04T02:00:00Z', 'tipo_operacao': 'Operação contratual externa (com garantia da União)', 'finalidade': 'Infraestrutura', 'tipo_credor': 'Instituição Financeira Internacional', 'credor': 'Banco Internacional para Reconstrução e Desenvolvimento', 'moeda': 'Dólar dos EUA', 'valor': 54000000, 'pvl_assoc_divida': 1, 'pvl_contradado_credor': 0, 'data_status': '06/03/2008'}, {'id_pleito': 5943, 'tipo_interessado': 'Estado', 'interessado': 'Rio de Janeiro', 'cod_ibge': 33, 'uf': 'RJ', 'num_pvl': None, 'status': 'Encaminhado à PGFN com manifestação técnica favorável', 'num_processo': '17944.000240/2012-07', 'data_protocolo': '2012-04-16T03:00:00Z', 'tipo_operacao': 'Operação contratual externa (com garantia da União)', 'finalidade': 'Multissetorial', 'tipo_credor': 'Instituição Financeira Internacional', 'credor': 'Banco Interamericano de Desenvolvimento', 'moeda': 'Dólar dos EUA', 'valor': 60000000, 'pvl_assoc_divida': 1, 'pvl_contradado_credor': 0, 'data_status': '14/09/2012'}, {'id_pleito': 10561, 'tipo_interessado': 'Estado', 'interessado': 'Rio de Janeiro', 'cod_ibge': 33, 'uf': 'RJ', 'num_pvl': None, 'status': 'Encaminhado à PGFN com manifestação técnica favorável', 'num_processo': '17944.001228/2011-21', 'data_protocolo': '2012-04-18T03:00:00Z', 'tipo_operacao': 'Operação contratual interna (com garantia da União)', 'finalidade': 'PAC 2 - Saneamento', 'tipo_credor': 'Instituição Financeira Nacional', 'credor': 'Caixa Econômica Federal', 'moeda': 'Real', 'valor': 415372248.98, 'pvl_assoc_divida': 1, 'pvl_contradado_credor': 0, 'data_status': '02/07/2012'}], 'hasMore': False, 'limit': 5000, 'offset': 0, 'count': 52, 'links': [{'rel': 'self', 'href': 'https://apidatalake.tesouro.gov.br/ords/sadipem/tt/pvl?uf=RJ&tipo_interessado=Estado'}, {'rel': 'describedby', 'href': 'https://apidatalake.tesouro.gov.br/ords/sadipem/metadata-catalog/tt/item'}, {'rel': 'first', 'href': 'https://apidatalake.tesouro.gov.br/ords/sadipem/tt/pvl?uf=RJ&tipo_interessado=Estado'}]}\n"
     ]
    }
   ],
   "source": [
    "data_json = r.json()\n",
    "print(data_json)"
   ]
  },
  {
   "cell_type": "code",
   "execution_count": 6,
   "metadata": {},
   "outputs": [
    {
     "name": "stdout",
     "output_type": "stream",
     "text": [
      "[{'id_pleito': 4997, 'tipo_interessado': 'Estado', 'interessado': 'Rio de Janeiro', 'cod_ibge': 33, 'uf': 'RJ', 'num_pvl': None, 'status': 'Deferido', 'num_processo': '17944.000020/2010-11', 'data_protocolo': '2010-04-19T03:00:00Z', 'tipo_operacao': 'Operação contratual interna', 'finalidade': 'PMAE', 'tipo_credor': 'Instituição Financeira Nacional', 'credor': 'Banco Nacional de Desenvolvimento Econômico e Social', 'moeda': 'Real', 'valor': 9982000, 'pvl_assoc_divida': 1, 'pvl_contradado_credor': 0, 'data_status': '20/04/2010'}, {'id_pleito': 7129, 'tipo_interessado': 'Estado', 'interessado': 'Rio de Janeiro', 'cod_ibge': 33, 'uf': 'RJ', 'num_pvl': None, 'status': 'Encaminhado à PGFN com manifestação técnica favorável', 'num_processo': '17944.000504/2014-86', 'data_protocolo': '2014-04-02T03:00:00Z', 'tipo_operacao': 'Operação contratual interna (com garantia da União)', 'finalidade': 'Infraestrutura', 'tipo_credor': 'Instituição Financeira Nacional', 'credor': 'Banco BTG Pactual S.A.', 'moeda': 'Real', 'valor': 450000000, 'pvl_assoc_divida': 1, 'pvl_contradado_credor': 0, 'data_status': '01/09/2014'}, {'id_pleito': 7141, 'tipo_interessado': 'Estado', 'interessado': 'Rio de Janeiro', 'cod_ibge': 33, 'uf': 'RJ', 'num_pvl': None, 'status': 'Encaminhado à PGFN com manifestação técnica favorável', 'num_processo': '17944.000506/2014-75', 'data_protocolo': '2014-04-02T03:00:00Z', 'tipo_operacao': 'Operação contratual interna (com garantia da União)', 'finalidade': 'Desenvolvimento sustentável', 'tipo_credor': 'Instituição Financeira Nacional', 'credor': 'Banco de Investimentos Credit Suisse (Brasil) S.A.', 'moeda': 'Real', 'valor': 600000000, 'pvl_assoc_divida': 1, 'pvl_contradado_credor': 0, 'data_status': '01/09/2014'}, {'id_pleito': 7255, 'tipo_interessado': 'Estado', 'interessado': 'Rio de Janeiro', 'cod_ibge': 33, 'uf': 'RJ', 'num_pvl': None, 'status': 'Encaminhado à PGFN com manifestação técnica favorável', 'num_processo': '17944.000532/2012-31', 'data_protocolo': '2012-05-24T03:00:00Z', 'tipo_operacao': 'Operação contratual interna (com garantia da União)', 'finalidade': 'Infraestrutura', 'tipo_credor': 'Instituição Financeira Nacional', 'credor': 'Banco do Brasil S/A', 'moeda': 'Real', 'valor': 3645563000, 'pvl_assoc_divida': 1, 'pvl_contradado_credor': 0, 'data_status': '29/05/2012'}, {'id_pleito': 10890, 'tipo_interessado': 'Estado', 'interessado': 'Rio de Janeiro', 'cod_ibge': 33, 'uf': 'RJ', 'num_pvl': None, 'status': 'Encaminhado à PGFN com manifestação técnica favorável', 'num_processo': '17944.001308/2012-67', 'data_protocolo': '2012-10-17T03:00:00Z', 'tipo_operacao': 'Operação contratual interna (com garantia da União)', 'finalidade': 'Proinveste', 'tipo_credor': 'Instituição Financeira Nacional', 'credor': 'Banco do Brasil S/A', 'moeda': 'Real', 'valor': 940956773.22, 'pvl_assoc_divida': 1, 'pvl_contradado_credor': 0, 'data_status': '20/11/2012'}, {'id_pleito': 13271, 'tipo_interessado': 'Estado', 'interessado': 'Rio de Janeiro', 'cod_ibge': 33, 'uf': 'RJ', 'num_pvl': None, 'status': 'Encaminhado à PGFN com manifestação técnica favorável', 'num_processo': '17944.001999/2008-12', 'data_protocolo': '2009-07-01T03:00:00Z', 'tipo_operacao': 'Operação contratual externa (com garantia da União)', 'finalidade': 'Desenvolvimento rural', 'tipo_credor': 'Instituição Financeira Internacional', 'credor': 'Banco Internacional para Reconstrução e Desenvolvimento', 'moeda': 'Dólar dos EUA', 'valor': 39500000, 'pvl_assoc_divida': 1, 'pvl_contradado_credor': 0, 'data_status': '07/07/2009'}, {'id_pleito': 6833, 'tipo_interessado': 'Estado', 'interessado': 'Rio de Janeiro', 'cod_ibge': 33, 'uf': 'RJ', 'num_pvl': None, 'status': 'Deferido', 'num_processo': '17944.000440/2008-75', 'data_protocolo': '2008-04-11T03:00:00Z', 'tipo_operacao': 'Operação contratual interna', 'finalidade': 'Multissetorial', 'tipo_credor': 'Instituição Financeira Nacional', 'credor': 'Banco Nacional de Desenvolvimento Econômico e Social', 'moeda': 'Real', 'valor': 15000000, 'pvl_assoc_divida': 1, 'pvl_contradado_credor': 0, 'data_status': '18/04/2008'}, {'id_pleito': 5918, 'tipo_interessado': 'Estado', 'interessado': 'Rio de Janeiro', 'cod_ibge': 33, 'uf': 'RJ', 'num_pvl': None, 'status': 'Encaminhado à PGFN com manifestação técnica favorável', 'num_processo': '17944.000233/2012-05', 'data_protocolo': '2012-04-16T03:00:00Z', 'tipo_operacao': 'Operação contratual externa (com garantia da União)', 'finalidade': 'Infraestrutura', 'tipo_credor': 'Instituição Financeira Internacional', 'credor': 'Corporação Andina de Fomento', 'moeda': 'Dólar dos EUA', 'valor': 319675000, 'pvl_assoc_divida': 1, 'pvl_contradado_credor': 0, 'data_status': '11/03/2016'}, {'id_pleito': 5645, 'tipo_interessado': 'Estado', 'interessado': 'Rio de Janeiro', 'cod_ibge': 33, 'uf': 'RJ', 'num_pvl': None, 'status': 'Encaminhado à PGFN com manifestação técnica favorável', 'num_processo': '17944.000161/2013-79', 'data_protocolo': '2013-04-08T03:00:00Z', 'tipo_operacao': 'Operação contratual interna (com garantia da União)', 'finalidade': 'Infraestrutura', 'tipo_credor': 'Instituição Financeira Nacional', 'credor': 'Banco Nacional de Desenvolvimento Econômico e Social', 'moeda': 'Real', 'valor': 3031405000, 'pvl_assoc_divida': 1, 'pvl_contradado_credor': 0, 'data_status': '06/05/2013'}, {'id_pleito': 9898, 'tipo_interessado': 'Estado', 'interessado': 'Rio de Janeiro', 'cod_ibge': 33, 'uf': 'RJ', 'num_pvl': None, 'status': 'Deferido', 'num_processo': '17944.001076/2010-85', 'data_protocolo': '2011-05-25T03:00:00Z', 'tipo_operacao': 'Operação contratual interna', 'finalidade': 'Saúde', 'tipo_credor': 'Instituição Financeira Nacional', 'credor': 'Banco do Brasil S/A', 'moeda': 'Real', 'valor': 132800000, 'pvl_assoc_divida': 0, 'pvl_contradado_credor': 0, 'data_status': '07/06/2011'}, {'id_pleito': 6660, 'tipo_interessado': 'Estado', 'interessado': 'Rio de Janeiro', 'cod_ibge': 33, 'uf': 'RJ', 'num_pvl': None, 'status': 'Deferido', 'num_processo': '17944.000403/2010-81', 'data_protocolo': '2010-05-24T03:00:00Z', 'tipo_operacao': 'Operação contratual interna', 'finalidade': 'PAC - Favelas', 'tipo_credor': 'Instituição Financeira Nacional', 'credor': 'Caixa Econômica Federal', 'moeda': 'Real', 'valor': 606046612.5, 'pvl_assoc_divida': 1, 'pvl_contradado_credor': 0, 'data_status': '06/07/2010'}, {'id_pleito': 9050, 'tipo_interessado': 'Estado', 'interessado': 'Rio de Janeiro', 'cod_ibge': 33, 'uf': 'RJ', 'num_pvl': None, 'status': 'Encaminhado à PGFN com manifestação técnica favorável', 'num_processo': '17944.000893/2010-16', 'data_protocolo': '2011-06-03T03:00:00Z', 'tipo_operacao': 'Operação contratual interna (com garantia da União)', 'finalidade': 'Infraestrutura', 'tipo_credor': 'Instituição Financeira Nacional', 'credor': 'Caixa Econômica Federal', 'moeda': 'Real', 'valor': 259138332.31, 'pvl_assoc_divida': 1, 'pvl_contradado_credor': 0, 'data_status': '04/07/2011'}, {'id_pleito': 22594, 'tipo_interessado': 'Estado', 'interessado': 'Rio de Janeiro', 'cod_ibge': 33, 'uf': 'RJ', 'num_pvl': '00000.000000/2031-89', 'status': 'Arquivado por decurso de prazo', 'num_processo': '17944.000657/2016-95', 'data_protocolo': '2016-05-12T03:00:00Z', 'tipo_operacao': 'Operação contratual interna (com garantia da União)', 'finalidade': 'Infraestrutura', 'tipo_credor': 'Instituição Financeira Nacional', 'credor': 'Banco Nacional de Desenvolvimento Econômico e Social', 'moeda': 'Real', 'valor': 989210440, 'pvl_assoc_divida': 0, 'pvl_contradado_credor': 0, 'data_status': '25/10/2016'}, {'id_pleito': 10606, 'tipo_interessado': 'Estado', 'interessado': 'Rio de Janeiro', 'cod_ibge': 33, 'uf': 'RJ', 'num_pvl': None, 'status': 'Deferido', 'num_processo': '17944.001240/2009-11', 'data_protocolo': '2009-10-22T02:00:00Z', 'tipo_operacao': 'Operação contratual interna', 'finalidade': 'Aquisição de máquinas, equipamentos e veículos', 'tipo_credor': 'Instituição Financeira Nacional', 'credor': 'Banco do Brasil S/A', 'moeda': 'Real', 'valor': 20000000, 'pvl_assoc_divida': 1, 'pvl_contradado_credor': 0, 'data_status': '04/11/2009'}, {'id_pleito': 12410, 'tipo_interessado': 'Estado', 'interessado': 'Rio de Janeiro', 'cod_ibge': 33, 'uf': 'RJ', 'num_pvl': None, 'status': 'Encaminhado à PGFN com manifestação técnica favorável', 'num_processo': '17944.001680/2011-92', 'data_protocolo': '2012-04-16T03:00:00Z', 'tipo_operacao': 'Operação contratual externa (com garantia da União)', 'finalidade': 'Infraestrutura', 'tipo_credor': 'Instituição Financeira Internacional', 'credor': 'Banco Internacional para Reconstrução e Desenvolvimento', 'moeda': 'Dólar dos EUA', 'valor': 600000000, 'pvl_assoc_divida': 1, 'pvl_contradado_credor': 0, 'data_status': '10/07/2012'}, {'id_pleito': 5630, 'tipo_interessado': 'Estado', 'interessado': 'Rio de Janeiro', 'cod_ibge': 33, 'uf': 'RJ', 'num_pvl': None, 'status': 'Encaminhado à PGFN com manifestação técnica favorável', 'num_processo': '17944.000158/2013-55', 'data_protocolo': '2013-10-22T02:00:00Z', 'tipo_operacao': 'Operação contratual externa (com garantia da União)', 'finalidade': 'Fortalecimento Institucional', 'tipo_credor': 'Instituição Financeira Internacional', 'credor': 'Banco Internacional para Reconstrução e Desenvolvimento', 'moeda': 'Dólar dos EUA', 'valor': 48000000, 'pvl_assoc_divida': 1, 'pvl_contradado_credor': 0, 'data_status': '21/11/2013'}, {'id_pleito': 5635, 'tipo_interessado': 'Estado', 'interessado': 'Rio de Janeiro', 'cod_ibge': 33, 'uf': 'RJ', 'num_pvl': None, 'status': 'Encaminhado à PGFN com manifestação técnica favorável', 'num_processo': '17944.000159/2013-08', 'data_protocolo': '2013-04-08T03:00:00Z', 'tipo_operacao': 'Operação contratual interna (com garantia da União)', 'finalidade': 'Infraestrutura', 'tipo_credor': 'Instituição Financeira Nacional', 'credor': 'Banco do Brasil S/A', 'moeda': 'Real', 'valor': 3135800000, 'pvl_assoc_divida': 1, 'pvl_contradado_credor': 0, 'data_status': '06/05/2013'}, {'id_pleito': 5640, 'tipo_interessado': 'Estado', 'interessado': 'Rio de Janeiro', 'cod_ibge': 33, 'uf': 'RJ', 'num_pvl': None, 'status': 'Arquivado a pedido', 'num_processo': '17944.000160/2013-24', 'data_protocolo': '2013-03-18T03:00:00Z', 'tipo_operacao': 'Operação contratual externa (com garantia da União)', 'finalidade': 'Infraestrutura', 'tipo_credor': 'Instituição Financeira Internacional', 'credor': 'Bank of America Merrill Lynch', 'moeda': 'Dólar dos EUA', 'valor': 716417910.45, 'pvl_assoc_divida': 0, 'pvl_contradado_credor': 0, 'data_status': '29/07/2013'}, {'id_pleito': 13364, 'tipo_interessado': 'Estado', 'interessado': 'Rio de Janeiro', 'cod_ibge': 33, 'uf': 'RJ', 'num_pvl': None, 'status': 'Encaminhado à PGFN com manifestação técnica favorável', 'num_processo': '17944.002059/2008-41', 'data_protocolo': '2009-05-14T03:00:00Z', 'tipo_operacao': 'Operação contratual externa (com garantia da União)', 'finalidade': 'Infraestrutura', 'tipo_credor': 'Instituição Financeira Internacional', 'credor': 'Banco Internacional para Reconstrução e Desenvolvimento', 'moeda': 'Dólar dos EUA', 'valor': 211700000, 'pvl_assoc_divida': 1, 'pvl_contradado_credor': 0, 'data_status': '22/05/2009'}, {'id_pleito': 13560, 'tipo_interessado': 'Estado', 'interessado': 'Rio de Janeiro', 'cod_ibge': 33, 'uf': 'RJ', 'num_pvl': None, 'status': 'Deferido', 'num_processo': '19405.000026/2002-01', 'data_protocolo': '2002-06-25T03:00:00Z', 'tipo_operacao': 'Operação contratual interna', 'finalidade': 'Infraestrutura', 'tipo_credor': 'Instituição Financeira Nacional', 'credor': 'Banco Nacional de Desenvolvimento Econômico e Social', 'moeda': 'Real', 'valor': 49942, 'pvl_assoc_divida': 1, 'pvl_contradado_credor': 0, 'data_status': '27/06/2002'}, {'id_pleito': 10562, 'tipo_interessado': 'Estado', 'interessado': 'Rio de Janeiro', 'cod_ibge': 33, 'uf': 'RJ', 'num_pvl': None, 'status': 'Encaminhado à PGFN com manifestação técnica favorável', 'num_processo': '17944.001228/2013-92', 'data_protocolo': '2013-10-22T02:00:00Z', 'tipo_operacao': 'Operação contratual externa (com garantia da União)', 'finalidade': 'Infraestrutura', 'tipo_credor': 'Instituição Financeira Internacional', 'credor': 'Banco Internacional para Reconstrução e Desenvolvimento', 'moeda': 'Dólar dos EUA', 'valor': 500000000, 'pvl_assoc_divida': 1, 'pvl_contradado_credor': 0, 'data_status': '27/12/2013'}, {'id_pleito': 12375, 'tipo_interessado': 'Estado', 'interessado': 'Rio de Janeiro', 'cod_ibge': 33, 'uf': 'RJ', 'num_pvl': None, 'status': 'Encaminhado à PGFN com manifestação técnica favorável', 'num_processo': '17944.001671/2011-00', 'data_protocolo': '2011-10-18T02:00:00Z', 'tipo_operacao': 'Operação contratual externa (com garantia da União)', 'finalidade': 'Preservação e recuperação ambiental', 'tipo_credor': 'Instituição Financeira Internacional', 'credor': 'Banco Interamericano de Desenvolvimento', 'moeda': 'Dólar dos EUA', 'valor': 451980000, 'pvl_assoc_divida': 1, 'pvl_contradado_credor': 0, 'data_status': '27/12/2011'}, {'id_pleito': 5923, 'tipo_interessado': 'Estado', 'interessado': 'Rio de Janeiro', 'cod_ibge': 33, 'uf': 'RJ', 'num_pvl': None, 'status': 'Encaminhado à PGFN com manifestação técnica favorável', 'num_processo': '17944.000234/2012-41', 'data_protocolo': '2012-04-16T03:00:00Z', 'tipo_operacao': 'Operação contratual externa (com garantia da União)', 'finalidade': 'Infraestrutura', 'tipo_credor': 'Instituição Financeira Internacional', 'credor': 'Corporação Andina de Fomento', 'moeda': 'Dólar dos EUA', 'valor': 200000000, 'pvl_assoc_divida': 1, 'pvl_contradado_credor': 0, 'data_status': '04/10/2012'}, {'id_pleito': 13483, 'tipo_interessado': 'Estado', 'interessado': 'Rio de Janeiro', 'cod_ibge': 33, 'uf': 'RJ', 'num_pvl': None, 'status': 'Deferido', 'num_processo': '19405.000010/2004-52', 'data_protocolo': '2006-02-15T02:00:00Z', 'tipo_operacao': 'Operação contratual interna', 'finalidade': 'Renegociação de dívidas', 'tipo_credor': 'Instituição Financeira Nacional', 'credor': 'Banco Nacional de Desenvolvimento Econômico e Social', 'moeda': 'Real', 'valor': 847526319.24, 'pvl_assoc_divida': 1, 'pvl_contradado_credor': 0, 'data_status': '01/03/2006'}, {'id_pleito': 13629, 'tipo_interessado': 'Estado', 'interessado': 'Rio de Janeiro', 'cod_ibge': 33, 'uf': 'RJ', 'num_pvl': None, 'status': 'Deferido', 'num_processo': '19405.000040/2002-05', 'data_protocolo': '2002-06-20T03:00:00Z', 'tipo_operacao': 'Operação contratual interna', 'finalidade': 'Aquisição de máquinas, equipamentos e veículos', 'tipo_credor': 'Instituição Financeira Nacional', 'credor': 'Banco Nacional de Desenvolvimento Econômico e Social', 'moeda': 'Real', 'valor': 43527550, 'pvl_assoc_divida': 1, 'pvl_contradado_credor': 0, 'data_status': '27/06/2002'}, {'id_pleito': 21660, 'tipo_interessado': 'Estado', 'interessado': 'Rio de Janeiro', 'cod_ibge': 33, 'uf': 'RJ', 'num_pvl': '00000.000000/2026-68', 'status': 'Arquivado a pedido', 'num_processo': '17944.000245/2016-55', 'data_protocolo': '2016-03-11T03:00:00Z', 'tipo_operacao': 'Operação contratual interna (com garantia da União)', 'finalidade': 'Fortalecimento Institucional', 'tipo_credor': 'Instituição Financeira Nacional', 'credor': 'Banco do Brasil S/A', 'moeda': 'Real', 'valor': 1000000000, 'pvl_assoc_divida': 0, 'pvl_contradado_credor': 0, 'data_status': '16/05/2016'}, {'id_pleito': 7057, 'tipo_interessado': 'Estado', 'interessado': 'Rio de Janeiro', 'cod_ibge': 33, 'uf': 'RJ', 'num_pvl': None, 'status': 'Encaminhado à PGFN com manifestação técnica favorável', 'num_processo': '17944.000487/2014-87', 'data_protocolo': '2014-04-24T03:00:00Z', 'tipo_operacao': 'Operação contratual interna (com garantia da União)', 'finalidade': 'Infraestrutura', 'tipo_credor': 'Instituição Financeira Nacional', 'credor': 'Banco Nacional de Desenvolvimento Econômico e Social', 'moeda': 'Real', 'valor': 3000000000, 'pvl_assoc_divida': 1, 'pvl_contradado_credor': 0, 'data_status': '04/07/2014'}, {'id_pleito': 7084, 'tipo_interessado': 'Estado', 'interessado': 'Rio de Janeiro', 'cod_ibge': 33, 'uf': 'RJ', 'num_pvl': None, 'status': 'Encaminhado à PGFN com manifestação técnica favorável', 'num_processo': '17944.000493/2010-19', 'data_protocolo': '2010-08-06T03:00:00Z', 'tipo_operacao': 'Operação contratual externa (com garantia da União)', 'finalidade': 'Fortalecimento Institucional', 'tipo_credor': 'Instituição Financeira Internacional', 'credor': 'Banco Internacional para Reconstrução e Desenvolvimento', 'moeda': 'Dólar dos EUA', 'valor': 18673000, 'pvl_assoc_divida': 1, 'pvl_contradado_credor': 0, 'data_status': '19/08/2010'}, {'id_pleito': 8528, 'tipo_interessado': 'Estado', 'interessado': 'Rio de Janeiro', 'cod_ibge': 33, 'uf': 'RJ', 'num_pvl': None, 'status': 'Deferido', 'num_processo': '17944.000793/2009-56', 'data_protocolo': '2009-07-17T03:00:00Z', 'tipo_operacao': 'Operação contratual interna', 'finalidade': 'Aquisição de terrenos, imóveis e/ou construção de instalações', 'tipo_credor': 'Instituição Financeira Nacional', 'credor': 'Banco Nacional de Desenvolvimento Econômico e Social', 'moeda': 'Real', 'valor': 157000000, 'pvl_assoc_divida': 1, 'pvl_contradado_credor': 0, 'data_status': '24/07/2009'}, {'id_pleito': 9102, 'tipo_interessado': 'Estado', 'interessado': 'Rio de Janeiro', 'cod_ibge': 33, 'uf': 'RJ', 'num_pvl': None, 'status': 'Encaminhado à PGFN com manifestação técnica favorável', 'num_processo': '17944.000903/2009-80', 'data_protocolo': '2009-07-29T03:00:00Z', 'tipo_operacao': 'Operação contratual interna (com garantia da União)', 'finalidade': 'PEF - Programa Emergencial de Financiamento dos Estados/DF', 'tipo_credor': 'Instituição Financeira Nacional', 'credor': 'Banco do Brasil S/A', 'moeda': 'Real', 'valor': 61108000, 'pvl_assoc_divida': 1, 'pvl_contradado_credor': 0, 'data_status': '06/08/2009'}, {'id_pleito': 7080, 'tipo_interessado': 'Estado', 'interessado': 'Rio de Janeiro', 'cod_ibge': 33, 'uf': 'RJ', 'num_pvl': None, 'status': 'Encaminhado à PGFN com manifestação técnica favorável', 'num_processo': '17944.000492/2012-28', 'data_protocolo': '2012-04-16T03:00:00Z', 'tipo_operacao': 'Operação contratual externa (com garantia da União)', 'finalidade': 'Multissetorial', 'tipo_credor': 'Instituição Financeira Internacional', 'credor': 'Banco Internacional para Reconstrução e Desenvolvimento', 'moeda': 'Dólar dos EUA', 'valor': 300000000, 'pvl_assoc_divida': 1, 'pvl_contradado_credor': 0, 'data_status': '03/09/2012'}, {'id_pleito': 8556, 'tipo_interessado': 'Estado', 'interessado': 'Rio de Janeiro', 'cod_ibge': 33, 'uf': 'RJ', 'num_pvl': None, 'status': 'Encaminhado à PGFN com manifestação técnica favorável', 'num_processo': '17944.000797/2010-78', 'data_protocolo': '2011-06-30T03:00:00Z', 'tipo_operacao': 'Operação contratual externa (com garantia da União)', 'finalidade': 'Multissetorial', 'tipo_credor': 'Instituição Financeira Internacional', 'credor': 'Banco Interamericano de Desenvolvimento', 'moeda': 'Dólar dos EUA', 'valor': 112000000, 'pvl_assoc_divida': 1, 'pvl_contradado_credor': 0, 'data_status': '04/07/2011'}, {'id_pleito': 9750, 'tipo_interessado': 'Estado', 'interessado': 'Rio de Janeiro', 'cod_ibge': 33, 'uf': 'RJ', 'num_pvl': None, 'status': 'Deferido', 'num_processo': '17944.001046/2006-92', 'data_protocolo': '2006-07-07T03:00:00Z', 'tipo_operacao': 'Operação contratual interna', 'finalidade': 'Infraestrutura', 'tipo_credor': 'Instituição Financeira Nacional', 'credor': 'Banco Nacional de Desenvolvimento Econômico e Social', 'moeda': 'Real', 'valor': 305737280, 'pvl_assoc_divida': 1, 'pvl_contradado_credor': 0, 'data_status': '13/07/2006'}, {'id_pleito': 10673, 'tipo_interessado': 'Estado', 'interessado': 'Rio de Janeiro', 'cod_ibge': 33, 'uf': 'RJ', 'num_pvl': None, 'status': 'Encaminhado à PGFN com manifestação técnica favorável', 'num_processo': '17944.001256/2010-67', 'data_protocolo': '2011-06-03T03:00:00Z', 'tipo_operacao': 'Operação contratual interna (com garantia da União)', 'finalidade': 'PAC - Copa Estádios', 'tipo_credor': 'Instituição Financeira Nacional', 'credor': 'Banco Nacional de Desenvolvimento Econômico e Social', 'moeda': 'Real', 'valor': 400000000, 'pvl_assoc_divida': 1, 'pvl_contradado_credor': 0, 'data_status': '04/07/2011'}, {'id_pleito': 10002, 'tipo_interessado': 'Estado', 'interessado': 'Rio de Janeiro', 'cod_ibge': 33, 'uf': 'RJ', 'num_pvl': None, 'status': 'Encaminhado à PGFN com manifestação técnica favorável', 'num_processo': '17944.001097/2009-67', 'data_protocolo': '2009-09-09T03:00:00Z', 'tipo_operacao': 'Operação contratual externa (com garantia da União)', 'finalidade': 'Profisco', 'tipo_credor': 'Instituição Financeira Internacional', 'credor': 'Banco Interamericano de Desenvolvimento', 'moeda': 'Dólar dos EUA', 'valor': 19759050, 'pvl_assoc_divida': 1, 'pvl_contradado_credor': 0, 'data_status': '28/09/2009'}, {'id_pleito': 11306, 'tipo_interessado': 'Estado', 'interessado': 'Rio de Janeiro', 'cod_ibge': 33, 'uf': 'RJ', 'num_pvl': None, 'status': 'Encaminhado à PGFN com manifestação técnica favorável', 'num_processo': '17944.001408/2009-98', 'data_protocolo': '2009-11-23T02:00:00Z', 'tipo_operacao': 'Operação contratual externa (com garantia da União)', 'finalidade': 'Fortalecimento Institucional', 'tipo_credor': 'Instituição Financeira Internacional', 'credor': 'Banco Internacional para Reconstrução e Desenvolvimento', 'moeda': 'Dólar dos EUA', 'valor': 485000000, 'pvl_assoc_divida': 1, 'pvl_contradado_credor': 0, 'data_status': '25/11/2009'}, {'id_pleito': 21388, 'tipo_interessado': 'Estado', 'interessado': 'Rio de Janeiro', 'cod_ibge': 33, 'uf': 'RJ', 'num_pvl': '00000.000000/2024-66', 'status': 'Encaminhado à PGFN com manifestação técnica favorável', 'num_processo': '17944.000158/2016-06', 'data_protocolo': '2016-02-19T02:00:00Z', 'tipo_operacao': 'Operação contratual interna (com garantia da União)', 'finalidade': 'Infraestrutura', 'tipo_credor': 'Instituição Financeira Nacional', 'credor': 'Banco Nacional de Desenvolvimento Econômico e Social', 'moeda': 'Real', 'valor': 444811123.92, 'pvl_assoc_divida': 1, 'pvl_contradado_credor': 0, 'data_status': '26/02/2016'}, {'id_pleito': 5516, 'tipo_interessado': 'Estado', 'interessado': 'Rio de Janeiro', 'cod_ibge': 33, 'uf': 'RJ', 'num_pvl': None, 'status': 'Encaminhado à PGFN com manifestação técnica favorável', 'num_processo': '17944.000131/2011-09', 'data_protocolo': '2011-06-30T03:00:00Z', 'tipo_operacao': 'Operação contratual externa (com garantia da União)', 'finalidade': 'Desenvolvimento sustentável', 'tipo_credor': 'Instituição Financeira Internacional', 'credor': 'Banco Internacional para Reconstrução e Desenvolvimento', 'moeda': 'Dólar dos EUA', 'valor': 485000000, 'pvl_assoc_divida': 1, 'pvl_contradado_credor': 0, 'data_status': '04/07/2011'}, {'id_pleito': 13624, 'tipo_interessado': 'Estado', 'interessado': 'Rio de Janeiro', 'cod_ibge': 33, 'uf': 'RJ', 'num_pvl': None, 'status': 'Deferido', 'num_processo': '19405.000039/2002-72', 'data_protocolo': '2002-06-20T03:00:00Z', 'tipo_operacao': 'Operação contratual interna', 'finalidade': 'Infraestrutura', 'tipo_credor': 'Instituição Financeira Nacional', 'credor': 'Banco Nacional de Desenvolvimento Econômico e Social', 'moeda': 'Real', 'valor': 67482400, 'pvl_assoc_divida': 1, 'pvl_contradado_credor': 0, 'data_status': '27/06/2002'}, {'id_pleito': 7085, 'tipo_interessado': 'Estado', 'interessado': 'Rio de Janeiro', 'cod_ibge': 33, 'uf': 'RJ', 'num_pvl': None, 'status': 'Encaminhado à PGFN com manifestação técnica favorável', 'num_processo': '17944.000493/2012-72', 'data_protocolo': '2012-04-16T03:00:00Z', 'tipo_operacao': 'Operação contratual externa (com garantia da União)', 'finalidade': 'Infraestrutura', 'tipo_credor': 'Instituição Financeira Internacional', 'credor': 'Corporação Andina de Fomento', 'moeda': 'Dólar dos EUA', 'valor': 120666000, 'pvl_assoc_divida': 1, 'pvl_contradado_credor': 0, 'data_status': '04/10/2012'}, {'id_pleito': 10849, 'tipo_interessado': 'Estado', 'interessado': 'Rio de Janeiro', 'cod_ibge': 33, 'uf': 'RJ', 'num_pvl': None, 'status': 'Encaminhado à PGFN com manifestação técnica favorável', 'num_processo': '17944.001300/2012-09', 'data_protocolo': '2013-03-04T03:00:00Z', 'tipo_operacao': 'Operação contratual interna (com garantia da União)', 'finalidade': 'Multissetorial', 'tipo_credor': 'Instituição Financeira Nacional', 'credor': 'Caixa Econômica Federal', 'moeda': 'Real', 'valor': 1199871427, 'pvl_assoc_divida': 1, 'pvl_contradado_credor': 0, 'data_status': '01/04/2013'}, {'id_pleito': 7187, 'tipo_interessado': 'Estado', 'interessado': 'Rio de Janeiro', 'cod_ibge': 33, 'uf': 'RJ', 'num_pvl': None, 'status': 'Encaminhado à PGFN com manifestação técnica favorável', 'num_processo': '17944.000517/2012-93', 'data_protocolo': '2012-04-16T03:00:00Z', 'tipo_operacao': 'Operação contratual externa (com garantia da União)', 'finalidade': 'Infraestrutura', 'tipo_credor': 'Instituição Financeira Internacional', 'credor': 'Agência Francesa de Desenvolvimento', 'moeda': 'Dólar dos EUA', 'valor': 394500000, 'pvl_assoc_divida': 1, 'pvl_contradado_credor': 0, 'data_status': '28/08/2012'}, {'id_pleito': 11961, 'tipo_interessado': 'Estado', 'interessado': 'Rio de Janeiro', 'cod_ibge': 33, 'uf': 'RJ', 'num_pvl': None, 'status': 'Encaminhado à PGFN com manifestação técnica favorável', 'num_processo': '17944.001569/2009-81', 'data_protocolo': '2009-12-04T02:00:00Z', 'tipo_operacao': 'Operação contratual interna (com garantia da União)', 'finalidade': 'PEF - Programa Emergencial de Financiamento dos Estados/DF 2', 'tipo_credor': 'Instituição Financeira Nacional', 'credor': 'Banco do Brasil S/A', 'moeda': 'Real', 'valor': 91662000, 'pvl_assoc_divida': 1, 'pvl_contradado_credor': 0, 'data_status': '09/12/2009'}, {'id_pleito': 5952, 'tipo_interessado': 'Estado', 'interessado': 'Rio de Janeiro', 'cod_ibge': 33, 'uf': 'RJ', 'num_pvl': None, 'status': 'Deferido', 'num_processo': '17944.000243/2012-32', 'data_protocolo': '2012-04-16T03:00:00Z', 'tipo_operacao': 'Operação contratual interna', 'finalidade': 'Infraestrutura', 'tipo_credor': 'Instituição Financeira Nacional', 'credor': 'Banco Nacional de Desenvolvimento Econômico e Social', 'moeda': 'Real', 'valor': 157954512.78, 'pvl_assoc_divida': 1, 'pvl_contradado_credor': 0, 'data_status': '14/05/2012'}, {'id_pleito': 5933, 'tipo_interessado': 'Estado', 'interessado': 'Rio de Janeiro', 'cod_ibge': 33, 'uf': 'RJ', 'num_pvl': None, 'status': 'Encaminhado à PGFN com manifestação técnica favorável', 'num_processo': '17944.000237/2012-85', 'data_protocolo': '2012-04-16T03:00:00Z', 'tipo_operacao': 'Operação contratual externa (com garantia da União)', 'finalidade': 'Infraestrutura', 'tipo_credor': 'Instituição Financeira Internacional', 'credor': 'Corporação Andina de Fomento', 'moeda': 'Dólar dos EUA', 'valor': 100000000, 'pvl_assoc_divida': 1, 'pvl_contradado_credor': 0, 'data_status': '10/07/2012'}, {'id_pleito': 9042, 'tipo_interessado': 'Estado', 'interessado': 'Rio de Janeiro', 'cod_ibge': 33, 'uf': 'RJ', 'num_pvl': None, 'status': 'Arquivado a pedido', 'num_processo': '17944.000891/2013-70', 'data_protocolo': '2013-09-20T03:00:00Z', 'tipo_operacao': 'Operação contratual interna (com garantia da União)', 'finalidade': 'Infraestrutura', 'tipo_credor': 'Instituição Financeira Nacional', 'credor': 'Banco Itaú BBA S.A.', 'moeda': 'Real', 'valor': 400000000, 'pvl_assoc_divida': 0, 'pvl_contradado_credor': 0, 'data_status': '05/02/2014'}, {'id_pleito': 7150, 'tipo_interessado': 'Estado', 'interessado': 'Rio de Janeiro', 'cod_ibge': 33, 'uf': 'RJ', 'num_pvl': None, 'status': 'Encaminhado à PGFN com manifestação técnica favorável', 'num_processo': '17944.000508/2012-01', 'data_protocolo': '2013-03-04T03:00:00Z', 'tipo_operacao': 'Operação contratual externa (com garantia da União)', 'finalidade': 'Desenvolvimento rural', 'tipo_credor': 'Instituição Financeira Internacional', 'credor': 'Banco Internacional para Reconstrução e Desenvolvimento', 'moeda': 'Dólar dos EUA', 'valor': 100000000, 'pvl_assoc_divida': 1, 'pvl_contradado_credor': 0, 'data_status': '28/03/2013'}, {'id_pleito': 7525, 'tipo_interessado': 'Estado', 'interessado': 'Rio de Janeiro', 'cod_ibge': 33, 'uf': 'RJ', 'num_pvl': None, 'status': 'Deferido', 'num_processo': '17944.000599/2009-71', 'data_protocolo': '2009-06-17T03:00:00Z', 'tipo_operacao': 'Operação contratual interna', 'finalidade': 'PAC - Saneamento - 2008', 'tipo_credor': 'Instituição Financeira Nacional', 'credor': 'Caixa Econômica Federal', 'moeda': 'Real', 'valor': 557999999.99, 'pvl_assoc_divida': 1, 'pvl_contradado_credor': 0, 'data_status': '18/06/2009'}, {'id_pleito': 13634, 'tipo_interessado': 'Estado', 'interessado': 'Rio de Janeiro', 'cod_ibge': 33, 'uf': 'RJ', 'num_pvl': None, 'status': 'Deferido', 'num_processo': '19405.000041/2002-41', 'data_protocolo': '2002-06-20T03:00:00Z', 'tipo_operacao': 'Operação contratual interna', 'finalidade': 'Aquisição de máquinas, equipamentos e veículos', 'tipo_credor': 'Instituição Financeira Nacional', 'credor': 'Banco Nacional de Desenvolvimento Econômico e Social', 'moeda': 'Real', 'valor': 60159550, 'pvl_assoc_divida': 0, 'pvl_contradado_credor': 0, 'data_status': '27/06/2002'}, {'id_pleito': 12018, 'tipo_interessado': 'Estado', 'interessado': 'Rio de Janeiro', 'cod_ibge': 33, 'uf': 'RJ', 'num_pvl': None, 'status': 'Encaminhado à PGFN com manifestação técnica favorável', 'num_processo': '17944.001583/2007-13', 'data_protocolo': '2007-12-04T02:00:00Z', 'tipo_operacao': 'Operação contratual externa (com garantia da União)', 'finalidade': 'Infraestrutura', 'tipo_credor': 'Instituição Financeira Internacional', 'credor': 'Banco Internacional para Reconstrução e Desenvolvimento', 'moeda': 'Dólar dos EUA', 'valor': 54000000, 'pvl_assoc_divida': 1, 'pvl_contradado_credor': 0, 'data_status': '06/03/2008'}, {'id_pleito': 5943, 'tipo_interessado': 'Estado', 'interessado': 'Rio de Janeiro', 'cod_ibge': 33, 'uf': 'RJ', 'num_pvl': None, 'status': 'Encaminhado à PGFN com manifestação técnica favorável', 'num_processo': '17944.000240/2012-07', 'data_protocolo': '2012-04-16T03:00:00Z', 'tipo_operacao': 'Operação contratual externa (com garantia da União)', 'finalidade': 'Multissetorial', 'tipo_credor': 'Instituição Financeira Internacional', 'credor': 'Banco Interamericano de Desenvolvimento', 'moeda': 'Dólar dos EUA', 'valor': 60000000, 'pvl_assoc_divida': 1, 'pvl_contradado_credor': 0, 'data_status': '14/09/2012'}, {'id_pleito': 10561, 'tipo_interessado': 'Estado', 'interessado': 'Rio de Janeiro', 'cod_ibge': 33, 'uf': 'RJ', 'num_pvl': None, 'status': 'Encaminhado à PGFN com manifestação técnica favorável', 'num_processo': '17944.001228/2011-21', 'data_protocolo': '2012-04-18T03:00:00Z', 'tipo_operacao': 'Operação contratual interna (com garantia da União)', 'finalidade': 'PAC 2 - Saneamento', 'tipo_credor': 'Instituição Financeira Nacional', 'credor': 'Caixa Econômica Federal', 'moeda': 'Real', 'valor': 415372248.98, 'pvl_assoc_divida': 1, 'pvl_contradado_credor': 0, 'data_status': '02/07/2012'}]\n"
     ]
    }
   ],
   "source": [
    "print(data_json['items'])"
   ]
  },
  {
   "cell_type": "code",
   "execution_count": 7,
   "metadata": {},
   "outputs": [
    {
     "data": {
      "text/html": [
       "<div>\n",
       "<style scoped>\n",
       "    .dataframe tbody tr th:only-of-type {\n",
       "        vertical-align: middle;\n",
       "    }\n",
       "\n",
       "    .dataframe tbody tr th {\n",
       "        vertical-align: top;\n",
       "    }\n",
       "\n",
       "    .dataframe thead th {\n",
       "        text-align: right;\n",
       "    }\n",
       "</style>\n",
       "<table border=\"1\" class=\"dataframe\">\n",
       "  <thead>\n",
       "    <tr style=\"text-align: right;\">\n",
       "      <th></th>\n",
       "      <th>id_pleito</th>\n",
       "      <th>tipo_interessado</th>\n",
       "      <th>interessado</th>\n",
       "      <th>cod_ibge</th>\n",
       "      <th>uf</th>\n",
       "      <th>num_pvl</th>\n",
       "      <th>status</th>\n",
       "      <th>num_processo</th>\n",
       "      <th>data_protocolo</th>\n",
       "      <th>tipo_operacao</th>\n",
       "      <th>finalidade</th>\n",
       "      <th>tipo_credor</th>\n",
       "      <th>credor</th>\n",
       "      <th>moeda</th>\n",
       "      <th>valor</th>\n",
       "      <th>pvl_assoc_divida</th>\n",
       "      <th>pvl_contradado_credor</th>\n",
       "      <th>data_status</th>\n",
       "    </tr>\n",
       "  </thead>\n",
       "  <tbody>\n",
       "    <tr>\n",
       "      <th>0</th>\n",
       "      <td>4997</td>\n",
       "      <td>Estado</td>\n",
       "      <td>Rio de Janeiro</td>\n",
       "      <td>33</td>\n",
       "      <td>RJ</td>\n",
       "      <td>None</td>\n",
       "      <td>Deferido</td>\n",
       "      <td>17944.000020/2010-11</td>\n",
       "      <td>2010-04-19T03:00:00Z</td>\n",
       "      <td>Operação contratual interna</td>\n",
       "      <td>PMAE</td>\n",
       "      <td>Instituição Financeira Nacional</td>\n",
       "      <td>Banco Nacional de Desenvolvimento Econômico e ...</td>\n",
       "      <td>Real</td>\n",
       "      <td>9.982000e+06</td>\n",
       "      <td>1</td>\n",
       "      <td>0</td>\n",
       "      <td>20/04/2010</td>\n",
       "    </tr>\n",
       "    <tr>\n",
       "      <th>1</th>\n",
       "      <td>7129</td>\n",
       "      <td>Estado</td>\n",
       "      <td>Rio de Janeiro</td>\n",
       "      <td>33</td>\n",
       "      <td>RJ</td>\n",
       "      <td>None</td>\n",
       "      <td>Encaminhado à PGFN com manifestação técnica fa...</td>\n",
       "      <td>17944.000504/2014-86</td>\n",
       "      <td>2014-04-02T03:00:00Z</td>\n",
       "      <td>Operação contratual interna (com garantia da U...</td>\n",
       "      <td>Infraestrutura</td>\n",
       "      <td>Instituição Financeira Nacional</td>\n",
       "      <td>Banco BTG Pactual S.A.</td>\n",
       "      <td>Real</td>\n",
       "      <td>4.500000e+08</td>\n",
       "      <td>1</td>\n",
       "      <td>0</td>\n",
       "      <td>01/09/2014</td>\n",
       "    </tr>\n",
       "    <tr>\n",
       "      <th>2</th>\n",
       "      <td>7141</td>\n",
       "      <td>Estado</td>\n",
       "      <td>Rio de Janeiro</td>\n",
       "      <td>33</td>\n",
       "      <td>RJ</td>\n",
       "      <td>None</td>\n",
       "      <td>Encaminhado à PGFN com manifestação técnica fa...</td>\n",
       "      <td>17944.000506/2014-75</td>\n",
       "      <td>2014-04-02T03:00:00Z</td>\n",
       "      <td>Operação contratual interna (com garantia da U...</td>\n",
       "      <td>Desenvolvimento sustentável</td>\n",
       "      <td>Instituição Financeira Nacional</td>\n",
       "      <td>Banco de Investimentos Credit Suisse (Brasil) ...</td>\n",
       "      <td>Real</td>\n",
       "      <td>6.000000e+08</td>\n",
       "      <td>1</td>\n",
       "      <td>0</td>\n",
       "      <td>01/09/2014</td>\n",
       "    </tr>\n",
       "    <tr>\n",
       "      <th>3</th>\n",
       "      <td>7255</td>\n",
       "      <td>Estado</td>\n",
       "      <td>Rio de Janeiro</td>\n",
       "      <td>33</td>\n",
       "      <td>RJ</td>\n",
       "      <td>None</td>\n",
       "      <td>Encaminhado à PGFN com manifestação técnica fa...</td>\n",
       "      <td>17944.000532/2012-31</td>\n",
       "      <td>2012-05-24T03:00:00Z</td>\n",
       "      <td>Operação contratual interna (com garantia da U...</td>\n",
       "      <td>Infraestrutura</td>\n",
       "      <td>Instituição Financeira Nacional</td>\n",
       "      <td>Banco do Brasil S/A</td>\n",
       "      <td>Real</td>\n",
       "      <td>3.645563e+09</td>\n",
       "      <td>1</td>\n",
       "      <td>0</td>\n",
       "      <td>29/05/2012</td>\n",
       "    </tr>\n",
       "    <tr>\n",
       "      <th>4</th>\n",
       "      <td>10890</td>\n",
       "      <td>Estado</td>\n",
       "      <td>Rio de Janeiro</td>\n",
       "      <td>33</td>\n",
       "      <td>RJ</td>\n",
       "      <td>None</td>\n",
       "      <td>Encaminhado à PGFN com manifestação técnica fa...</td>\n",
       "      <td>17944.001308/2012-67</td>\n",
       "      <td>2012-10-17T03:00:00Z</td>\n",
       "      <td>Operação contratual interna (com garantia da U...</td>\n",
       "      <td>Proinveste</td>\n",
       "      <td>Instituição Financeira Nacional</td>\n",
       "      <td>Banco do Brasil S/A</td>\n",
       "      <td>Real</td>\n",
       "      <td>9.409568e+08</td>\n",
       "      <td>1</td>\n",
       "      <td>0</td>\n",
       "      <td>20/11/2012</td>\n",
       "    </tr>\n",
       "  </tbody>\n",
       "</table>\n",
       "</div>"
      ],
      "text/plain": [
       "   id_pleito tipo_interessado     interessado  cod_ibge  uf num_pvl  \\\n",
       "0       4997           Estado  Rio de Janeiro        33  RJ    None   \n",
       "1       7129           Estado  Rio de Janeiro        33  RJ    None   \n",
       "2       7141           Estado  Rio de Janeiro        33  RJ    None   \n",
       "3       7255           Estado  Rio de Janeiro        33  RJ    None   \n",
       "4      10890           Estado  Rio de Janeiro        33  RJ    None   \n",
       "\n",
       "                                              status          num_processo  \\\n",
       "0                                           Deferido  17944.000020/2010-11   \n",
       "1  Encaminhado à PGFN com manifestação técnica fa...  17944.000504/2014-86   \n",
       "2  Encaminhado à PGFN com manifestação técnica fa...  17944.000506/2014-75   \n",
       "3  Encaminhado à PGFN com manifestação técnica fa...  17944.000532/2012-31   \n",
       "4  Encaminhado à PGFN com manifestação técnica fa...  17944.001308/2012-67   \n",
       "\n",
       "         data_protocolo                                      tipo_operacao  \\\n",
       "0  2010-04-19T03:00:00Z                        Operação contratual interna   \n",
       "1  2014-04-02T03:00:00Z  Operação contratual interna (com garantia da U...   \n",
       "2  2014-04-02T03:00:00Z  Operação contratual interna (com garantia da U...   \n",
       "3  2012-05-24T03:00:00Z  Operação contratual interna (com garantia da U...   \n",
       "4  2012-10-17T03:00:00Z  Operação contratual interna (com garantia da U...   \n",
       "\n",
       "                    finalidade                      tipo_credor  \\\n",
       "0                         PMAE  Instituição Financeira Nacional   \n",
       "1               Infraestrutura  Instituição Financeira Nacional   \n",
       "2  Desenvolvimento sustentável  Instituição Financeira Nacional   \n",
       "3               Infraestrutura  Instituição Financeira Nacional   \n",
       "4                   Proinveste  Instituição Financeira Nacional   \n",
       "\n",
       "                                              credor moeda         valor  \\\n",
       "0  Banco Nacional de Desenvolvimento Econômico e ...  Real  9.982000e+06   \n",
       "1                             Banco BTG Pactual S.A.  Real  4.500000e+08   \n",
       "2  Banco de Investimentos Credit Suisse (Brasil) ...  Real  6.000000e+08   \n",
       "3                                Banco do Brasil S/A  Real  3.645563e+09   \n",
       "4                                Banco do Brasil S/A  Real  9.409568e+08   \n",
       "\n",
       "   pvl_assoc_divida  pvl_contradado_credor data_status  \n",
       "0                 1                      0  20/04/2010  \n",
       "1                 1                      0  01/09/2014  \n",
       "2                 1                      0  01/09/2014  \n",
       "3                 1                      0  29/05/2012  \n",
       "4                 1                      0  20/11/2012  "
      ]
     },
     "execution_count": 7,
     "metadata": {},
     "output_type": "execute_result"
    }
   ],
   "source": [
    "data_rj = pd.DataFrame(data_json['items'])\n",
    "data_rj.head()"
   ]
  },
  {
   "cell_type": "code",
   "execution_count": 8,
   "metadata": {},
   "outputs": [
    {
     "data": {
      "text/plain": [
       "status\n",
       "Encaminhado à PGFN com manifestação técnica favorável    34\n",
       "Deferido                                                 14\n",
       "Arquivado a pedido                                        3\n",
       "Name: count, dtype: int64"
      ]
     },
     "execution_count": 8,
     "metadata": {},
     "output_type": "execute_result"
    }
   ],
   "source": [
    "# 2) Seu código aqui\n",
    "data_rj['status'].value_counts()[0:3]"
   ]
  },
  {
   "cell_type": "code",
   "execution_count": 9,
   "metadata": {},
   "outputs": [
    {
     "name": "stdout",
     "output_type": "stream",
     "text": [
      "<class 'pandas.core.frame.DataFrame'>\n",
      "RangeIndex: 52 entries, 0 to 51\n",
      "Data columns (total 18 columns):\n",
      " #   Column                 Non-Null Count  Dtype  \n",
      "---  ------                 --------------  -----  \n",
      " 0   id_pleito              52 non-null     int64  \n",
      " 1   tipo_interessado       52 non-null     object \n",
      " 2   interessado            52 non-null     object \n",
      " 3   cod_ibge               52 non-null     int64  \n",
      " 4   uf                     52 non-null     object \n",
      " 5   num_pvl                3 non-null      object \n",
      " 6   status                 52 non-null     object \n",
      " 7   num_processo           52 non-null     object \n",
      " 8   data_protocolo         52 non-null     object \n",
      " 9   tipo_operacao          52 non-null     object \n",
      " 10  finalidade             52 non-null     object \n",
      " 11  tipo_credor            52 non-null     object \n",
      " 12  credor                 52 non-null     object \n",
      " 13  moeda                  52 non-null     object \n",
      " 14  valor                  52 non-null     float64\n",
      " 15  pvl_assoc_divida       52 non-null     int64  \n",
      " 16  pvl_contradado_credor  52 non-null     int64  \n",
      " 17  data_status            52 non-null     object \n",
      "dtypes: float64(1), int64(4), object(13)\n",
      "memory usage: 7.4+ KB\n"
     ]
    }
   ],
   "source": [
    "# 3) Seu código aqui\n",
    "data_rj.info()"
   ]
  },
  {
   "cell_type": "code",
   "execution_count": 10,
   "metadata": {},
   "outputs": [
    {
     "data": {
      "text/plain": [
       "0     2010\n",
       "1     2014\n",
       "2     2014\n",
       "3     2012\n",
       "4     2012\n",
       "5     2009\n",
       "6     2008\n",
       "7     2016\n",
       "8     2013\n",
       "9     2011\n",
       "10    2010\n",
       "11    2011\n",
       "12    2016\n",
       "13    2009\n",
       "14    2012\n",
       "15    2013\n",
       "16    2013\n",
       "17    2013\n",
       "18    2009\n",
       "19    2002\n",
       "20    2013\n",
       "21    2011\n",
       "22    2012\n",
       "23    2006\n",
       "24    2002\n",
       "25    2016\n",
       "26    2014\n",
       "27    2010\n",
       "28    2009\n",
       "29    2009\n",
       "30    2012\n",
       "31    2011\n",
       "32    2006\n",
       "33    2011\n",
       "34    2009\n",
       "35    2009\n",
       "36    2016\n",
       "37    2011\n",
       "38    2002\n",
       "39    2012\n",
       "40    2013\n",
       "41    2012\n",
       "42    2009\n",
       "43    2012\n",
       "44    2012\n",
       "45    2014\n",
       "46    2013\n",
       "47    2009\n",
       "48    2002\n",
       "49    2008\n",
       "50    2012\n",
       "51    2012\n",
       "Name: data_status, dtype: object"
      ]
     },
     "execution_count": 10,
     "metadata": {},
     "output_type": "execute_result"
    }
   ],
   "source": [
    "ano_do_status = data_rj['data_status'].str.slice(6)\n",
    "ano_do_status"
   ]
  },
  {
   "cell_type": "code",
   "execution_count": 11,
   "metadata": {},
   "outputs": [
    {
     "data": {
      "text/plain": [
       "data_status\n",
       "2012    11\n",
       "2009     9\n",
       "2013     7\n",
       "2011     6\n",
       "2014     4\n",
       "2016     4\n",
       "2002     4\n",
       "2010     3\n",
       "2008     2\n",
       "2006     2\n",
       "Name: count, dtype: int64"
      ]
     },
     "execution_count": 11,
     "metadata": {},
     "output_type": "execute_result"
    }
   ],
   "source": [
    "# 4)\n",
    "ano_do_status.value_counts()"
   ]
  },
  {
   "cell_type": "markdown",
   "metadata": {},
   "source": [
    "####  2) Melhorando a interação com o API\n",
    "Observe dois URLs de consultas diferentes, por exemplo o URL utilizado em aula, e o URL feito no exercício anterior. Compare-os e observe as diferenças.\n",
    "\n",
    "1. Faça uma função em Python que recebe como argumento o UF da consulta e o tipo de interessado (```'Estado'```ou ```Município```), e que devolve os dados da consulta no formato *DataFrame*.\n",
    "2. Quantas solicitações para o Estado podem ser consultadas para Minas Gerais com *status* em 'Arquivado por decurso de prazo' estão registradas?\n",
    "3. Qual é o município da Bahia com mais solicitações deferidas?\n",
    "4. Salve um arquivo .csv com os dados de solicitações da Bahia, com interessado = 'Estado'"
   ]
  },
  {
   "cell_type": "code",
   "execution_count": 12,
   "metadata": {},
   "outputs": [],
   "source": [
    "#1) Seu código aqui\n",
    "url_estado_AC = 'https://apidatalake.tesouro.gov.br/ords/sadipem/tt/pvl?uf=AC&tipo_interessado=Estado'\n",
    "url_municipio_AC = 'https://apidatalake.tesouro.gov.br/ords/sadipem/tt/pvl?uf=AC&tipo_interessado=Munic%C3%ADpio'\n",
    "\n",
    "def consultar_dados(UF, tipo_interessado):\n",
    "    if tipo_interessado == 'Estado':\n",
    "        url = f'https://apidatalake.tesouro.gov.br/ords/sadipem/tt/pvl?uf={UF}&tipo_interessado=Estado'\n",
    "    elif tipo_interessado == 'Município':\n",
    "        url = f'https://apidatalake.tesouro.gov.br/ords/sadipem/tt/pvl?uf={UF}&tipo_interessado=Munic%C3%ADpio'\n",
    "    response = requests.get(url)\n",
    "    if response.status_code == 200:\n",
    "        data = response.json()\n",
    "        df = pd.DataFrame(data['items'])\n",
    "        return df\n",
    "    else:\n",
    "        print('Erro ao fazer a solicitação:', response.status_code)\n",
    "        return None"
   ]
  },
  {
   "cell_type": "code",
   "execution_count": 13,
   "metadata": {},
   "outputs": [
    {
     "name": "stdout",
     "output_type": "stream",
     "text": [
      "A quantidade de solicitações para o estado de Minas gerais com o status de 'Arquivado por decurso de prazo' é de 1\n"
     ]
    }
   ],
   "source": [
    "# 2) Seu código aqui\n",
    "dados_MG = consultar_dados('MG', 'Estado')\n",
    "solic_arquivadas_MG = dados_MG['status'].value_counts()['Arquivado por decurso de prazo']\n",
    "print(\"A quantidade de solicitações para o estado de Minas gerais com o status de 'Arquivado por decurso de prazo' é de\", solic_arquivadas_MG)"
   ]
  },
  {
   "cell_type": "code",
   "execution_count": 14,
   "metadata": {},
   "outputs": [
    {
     "data": {
      "text/plain": [
       "(999, 18)"
      ]
     },
     "execution_count": 14,
     "metadata": {},
     "output_type": "execute_result"
    }
   ],
   "source": [
    "# 3) Seu código aqui\n",
    "dados_BA = consultar_dados('BA', 'Município')\n",
    "df_teste_BA = pd.DataFrame(dados_BA)\n",
    "df_teste_BA.shape"
   ]
  },
  {
   "cell_type": "code",
   "execution_count": 15,
   "metadata": {},
   "outputs": [
    {
     "data": {
      "text/html": [
       "<div>\n",
       "<style scoped>\n",
       "    .dataframe tbody tr th:only-of-type {\n",
       "        vertical-align: middle;\n",
       "    }\n",
       "\n",
       "    .dataframe tbody tr th {\n",
       "        vertical-align: top;\n",
       "    }\n",
       "\n",
       "    .dataframe thead th {\n",
       "        text-align: right;\n",
       "    }\n",
       "</style>\n",
       "<table border=\"1\" class=\"dataframe\">\n",
       "  <thead>\n",
       "    <tr style=\"text-align: right;\">\n",
       "      <th></th>\n",
       "      <th>id_pleito</th>\n",
       "      <th>tipo_interessado</th>\n",
       "      <th>interessado</th>\n",
       "      <th>cod_ibge</th>\n",
       "      <th>uf</th>\n",
       "      <th>num_pvl</th>\n",
       "      <th>status</th>\n",
       "      <th>num_processo</th>\n",
       "      <th>data_protocolo</th>\n",
       "      <th>tipo_operacao</th>\n",
       "      <th>finalidade</th>\n",
       "      <th>tipo_credor</th>\n",
       "      <th>credor</th>\n",
       "      <th>moeda</th>\n",
       "      <th>valor</th>\n",
       "      <th>pvl_assoc_divida</th>\n",
       "      <th>pvl_contradado_credor</th>\n",
       "      <th>data_status</th>\n",
       "    </tr>\n",
       "  </thead>\n",
       "  <tbody>\n",
       "    <tr>\n",
       "      <th>0</th>\n",
       "      <td>65686</td>\n",
       "      <td>Município</td>\n",
       "      <td>Luís Eduardo Magalhães</td>\n",
       "      <td>2919553</td>\n",
       "      <td>BA</td>\n",
       "      <td>PVL02.001910/2023-94</td>\n",
       "      <td>Deferido</td>\n",
       "      <td>17944.103035/2023-47</td>\n",
       "      <td>2023-07-12T12:16:42Z</td>\n",
       "      <td>Operação contratual interna</td>\n",
       "      <td>Infraestrutura</td>\n",
       "      <td>Instituição Financeira Nacional</td>\n",
       "      <td>Caixa Econômica Federal</td>\n",
       "      <td>Real</td>\n",
       "      <td>46000000.0</td>\n",
       "      <td>0</td>\n",
       "      <td>1</td>\n",
       "      <td>17/07/2023</td>\n",
       "    </tr>\n",
       "    <tr>\n",
       "      <th>1</th>\n",
       "      <td>36668</td>\n",
       "      <td>Município</td>\n",
       "      <td>Riacho de Santana</td>\n",
       "      <td>2926400</td>\n",
       "      <td>BA</td>\n",
       "      <td>PVL02.005202/2019-46</td>\n",
       "      <td>Deferido</td>\n",
       "      <td>17944.103335/2019-40</td>\n",
       "      <td>2019-09-23T13:47:15Z</td>\n",
       "      <td>Operação contratual interna</td>\n",
       "      <td>Infraestrutura</td>\n",
       "      <td>Instituição Financeira Nacional</td>\n",
       "      <td>Agência de Fomento do Estado da Bahia S/A</td>\n",
       "      <td>Real</td>\n",
       "      <td>3300000.0</td>\n",
       "      <td>0</td>\n",
       "      <td>1</td>\n",
       "      <td>25/09/2019</td>\n",
       "    </tr>\n",
       "    <tr>\n",
       "      <th>2</th>\n",
       "      <td>66252</td>\n",
       "      <td>Município</td>\n",
       "      <td>Planaltino</td>\n",
       "      <td>2924900</td>\n",
       "      <td>BA</td>\n",
       "      <td>PVL02.003204/2023-87</td>\n",
       "      <td>Deferido (PVL-IF)</td>\n",
       "      <td>None</td>\n",
       "      <td>None</td>\n",
       "      <td>Operação contratual interna</td>\n",
       "      <td>Infraestrutura</td>\n",
       "      <td>Instituição Financeira Nacional</td>\n",
       "      <td>Agência de Fomento do Estado da Bahia S/A</td>\n",
       "      <td>Real</td>\n",
       "      <td>2400000.0</td>\n",
       "      <td>0</td>\n",
       "      <td>1</td>\n",
       "      <td>22/08/2023</td>\n",
       "    </tr>\n",
       "    <tr>\n",
       "      <th>3</th>\n",
       "      <td>61128</td>\n",
       "      <td>Município</td>\n",
       "      <td>Santo Antônio de Jesus</td>\n",
       "      <td>2928703</td>\n",
       "      <td>BA</td>\n",
       "      <td>PVL02.007363/2022-70</td>\n",
       "      <td>Deferido</td>\n",
       "      <td>17944.103256/2022-34</td>\n",
       "      <td>2022-08-25T19:56:25Z</td>\n",
       "      <td>Operação contratual interna</td>\n",
       "      <td>Infraestrutura</td>\n",
       "      <td>Instituição Financeira Nacional</td>\n",
       "      <td>Caixa Econômica Federal</td>\n",
       "      <td>Real</td>\n",
       "      <td>45000000.0</td>\n",
       "      <td>0</td>\n",
       "      <td>1</td>\n",
       "      <td>29/08/2022</td>\n",
       "    </tr>\n",
       "    <tr>\n",
       "      <th>4</th>\n",
       "      <td>61627</td>\n",
       "      <td>Município</td>\n",
       "      <td>Catu</td>\n",
       "      <td>2907509</td>\n",
       "      <td>BA</td>\n",
       "      <td>PVL02.007861/2022-12</td>\n",
       "      <td>Deferido</td>\n",
       "      <td>17944.103772/2022-69</td>\n",
       "      <td>2022-09-12T20:43:42Z</td>\n",
       "      <td>Operação contratual interna</td>\n",
       "      <td>Infraestrutura</td>\n",
       "      <td>Instituição Financeira Nacional</td>\n",
       "      <td>Caixa Econômica Federal</td>\n",
       "      <td>Real</td>\n",
       "      <td>8000000.0</td>\n",
       "      <td>0</td>\n",
       "      <td>0</td>\n",
       "      <td>16/09/2022</td>\n",
       "    </tr>\n",
       "  </tbody>\n",
       "</table>\n",
       "</div>"
      ],
      "text/plain": [
       "   id_pleito tipo_interessado             interessado  cod_ibge  uf  \\\n",
       "0      65686        Município  Luís Eduardo Magalhães   2919553  BA   \n",
       "1      36668        Município       Riacho de Santana   2926400  BA   \n",
       "2      66252        Município              Planaltino   2924900  BA   \n",
       "3      61128        Município  Santo Antônio de Jesus   2928703  BA   \n",
       "4      61627        Município                    Catu   2907509  BA   \n",
       "\n",
       "                num_pvl             status          num_processo  \\\n",
       "0  PVL02.001910/2023-94           Deferido  17944.103035/2023-47   \n",
       "1  PVL02.005202/2019-46           Deferido  17944.103335/2019-40   \n",
       "2  PVL02.003204/2023-87  Deferido (PVL-IF)                  None   \n",
       "3  PVL02.007363/2022-70           Deferido  17944.103256/2022-34   \n",
       "4  PVL02.007861/2022-12           Deferido  17944.103772/2022-69   \n",
       "\n",
       "         data_protocolo                tipo_operacao      finalidade  \\\n",
       "0  2023-07-12T12:16:42Z  Operação contratual interna  Infraestrutura   \n",
       "1  2019-09-23T13:47:15Z  Operação contratual interna  Infraestrutura   \n",
       "2                  None  Operação contratual interna  Infraestrutura   \n",
       "3  2022-08-25T19:56:25Z  Operação contratual interna  Infraestrutura   \n",
       "4  2022-09-12T20:43:42Z  Operação contratual interna  Infraestrutura   \n",
       "\n",
       "                       tipo_credor                                     credor  \\\n",
       "0  Instituição Financeira Nacional                    Caixa Econômica Federal   \n",
       "1  Instituição Financeira Nacional  Agência de Fomento do Estado da Bahia S/A   \n",
       "2  Instituição Financeira Nacional  Agência de Fomento do Estado da Bahia S/A   \n",
       "3  Instituição Financeira Nacional                    Caixa Econômica Federal   \n",
       "4  Instituição Financeira Nacional                    Caixa Econômica Federal   \n",
       "\n",
       "  moeda       valor  pvl_assoc_divida  pvl_contradado_credor data_status  \n",
       "0  Real  46000000.0                 0                      1  17/07/2023  \n",
       "1  Real   3300000.0                 0                      1  25/09/2019  \n",
       "2  Real   2400000.0                 0                      1  22/08/2023  \n",
       "3  Real  45000000.0                 0                      1  29/08/2022  \n",
       "4  Real   8000000.0                 0                      0  16/09/2022  "
      ]
     },
     "execution_count": 15,
     "metadata": {},
     "output_type": "execute_result"
    }
   ],
   "source": [
    "df_teste_BA.head()"
   ]
  },
  {
   "cell_type": "code",
   "execution_count": 16,
   "metadata": {},
   "outputs": [
    {
     "data": {
      "text/plain": [
       "'Camaçari'"
      ]
     },
     "execution_count": 16,
     "metadata": {},
     "output_type": "execute_result"
    }
   ],
   "source": [
    "solic_def_BA = dados_BA[dados_BA['status'] == dados_BA['status'].max()]['interessado'].iloc[0]\n",
    "solic_def_BA"
   ]
  },
  {
   "cell_type": "code",
   "execution_count": 17,
   "metadata": {},
   "outputs": [],
   "source": [
    "# 4) Seu código aqui\n",
    "dados_BA_estado = consultar_dados('BA', 'Estado')\n",
    "dados_BA_estado.to_csv('SolicitacoesBahia.csv')"
   ]
  }
 ],
 "metadata": {
  "kernelspec": {
   "display_name": "Python 3 (ipykernel)",
   "language": "python",
   "name": "python3"
  },
  "language_info": {
   "codemirror_mode": {
    "name": "ipython",
    "version": 3
   },
   "file_extension": ".py",
   "mimetype": "text/x-python",
   "name": "python",
   "nbconvert_exporter": "python",
   "pygments_lexer": "ipython3",
   "version": "3.11.5"
  }
 },
 "nbformat": 4,
 "nbformat_minor": 4
}
